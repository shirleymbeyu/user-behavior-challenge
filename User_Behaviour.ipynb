{
  "cells": [
    {
      "cell_type": "markdown",
      "metadata": {
        "id": "FRCNbfrSinXw"
      },
      "source": [
        "# Set Up"
      ]
    },
    {
      "cell_type": "code",
      "execution_count": 3,
      "metadata": {
        "id": "xJkdVQRVi0sm"
      },
      "outputs": [],
      "source": [
        "import pandas as pd\n",
        "import numpy as np\n",
        "import matplotlib.pyplot as plt\n",
        "import seaborn as sns\n",
        "import warnings\n",
        "np.random.seed(123)\n",
        "warnings.filterwarnings('ignore')\n",
        "%matplotlib inline"
      ]
    },
    {
      "cell_type": "code",
      "execution_count": 4,
      "metadata": {
        "colab": {
          "base_uri": "https://localhost:8080/",
          "height": 288
        },
        "id": "nrQ9AzcZec1f",
        "outputId": "e64b2b92-8f9a-4a1d-d701-62a0ebd8f0bf"
      },
      "outputs": [
        {
          "data": {
            "text/html": [
              "\n",
              "  <div id=\"df-48f38063-669c-44b2-a46f-e1eb5b2a58c3\">\n",
              "    <div class=\"colab-df-container\">\n",
              "      <div>\n",
              "<style scoped>\n",
              "    .dataframe tbody tr th:only-of-type {\n",
              "        vertical-align: middle;\n",
              "    }\n",
              "\n",
              "    .dataframe tbody tr th {\n",
              "        vertical-align: top;\n",
              "    }\n",
              "\n",
              "    .dataframe thead th {\n",
              "        text-align: right;\n",
              "    }\n",
              "</style>\n",
              "<table border=\"1\" class=\"dataframe\">\n",
              "  <thead>\n",
              "    <tr style=\"text-align: right;\">\n",
              "      <th></th>\n",
              "      <th>CompID</th>\n",
              "      <th>Country</th>\n",
              "      <th>FeatureA</th>\n",
              "      <th>FeatureB</th>\n",
              "      <th>FeatureC</th>\n",
              "      <th>Kind</th>\n",
              "      <th>Points Reward</th>\n",
              "      <th>FeatureD</th>\n",
              "      <th>SecretCode</th>\n",
              "      <th>SubmissionLimitPerDay</th>\n",
              "      <th>FeatureE</th>\n",
              "      <th>CompEndTime Year</th>\n",
              "      <th>CompEndTime Month</th>\n",
              "      <th>CompEndTime Day_of_week</th>\n",
              "      <th>CompStartTime Year</th>\n",
              "      <th>CompStartTime Month</th>\n",
              "      <th>CompStartTime Day_of_week</th>\n",
              "    </tr>\n",
              "  </thead>\n",
              "  <tbody>\n",
              "    <tr>\n",
              "      <th>0</th>\n",
              "      <td>ID_WGZ2</td>\n",
              "      <td>ID_HWRH</td>\n",
              "      <td>[1]</td>\n",
              "      <td>[14]</td>\n",
              "      <td>1.0</td>\n",
              "      <td>1</td>\n",
              "      <td>27</td>\n",
              "      <td>1</td>\n",
              "      <td>0</td>\n",
              "      <td>100.0</td>\n",
              "      <td>[1]</td>\n",
              "      <td>1</td>\n",
              "      <td>8.0</td>\n",
              "      <td>7.0</td>\n",
              "      <td>1</td>\n",
              "      <td>6</td>\n",
              "      <td>5</td>\n",
              "    </tr>\n",
              "    <tr>\n",
              "      <th>1</th>\n",
              "      <td>ID_G370</td>\n",
              "      <td>NaN</td>\n",
              "      <td>[1]</td>\n",
              "      <td>[]</td>\n",
              "      <td>2.0</td>\n",
              "      <td>1</td>\n",
              "      <td>52</td>\n",
              "      <td>2</td>\n",
              "      <td>0</td>\n",
              "      <td>10.0</td>\n",
              "      <td>[1]</td>\n",
              "      <td>4</td>\n",
              "      <td>1.0</td>\n",
              "      <td>6.0</td>\n",
              "      <td>3</td>\n",
              "      <td>12</td>\n",
              "      <td>7</td>\n",
              "    </tr>\n",
              "    <tr>\n",
              "      <th>2</th>\n",
              "      <td>ID_R5HL</td>\n",
              "      <td>NaN</td>\n",
              "      <td>[1]</td>\n",
              "      <td>[]</td>\n",
              "      <td>3.0</td>\n",
              "      <td>1</td>\n",
              "      <td>126</td>\n",
              "      <td>2</td>\n",
              "      <td>0</td>\n",
              "      <td>10.0</td>\n",
              "      <td>[1]</td>\n",
              "      <td>4</td>\n",
              "      <td>1.0</td>\n",
              "      <td>6.0</td>\n",
              "      <td>3</td>\n",
              "      <td>10</td>\n",
              "      <td>4</td>\n",
              "    </tr>\n",
              "    <tr>\n",
              "      <th>3</th>\n",
              "      <td>ID_Y6XI</td>\n",
              "      <td>ID_ARVG</td>\n",
              "      <td>[1]</td>\n",
              "      <td>[]</td>\n",
              "      <td>4.0</td>\n",
              "      <td>1</td>\n",
              "      <td>52</td>\n",
              "      <td>2</td>\n",
              "      <td>0</td>\n",
              "      <td>10.0</td>\n",
              "      <td>[1]</td>\n",
              "      <td>4</td>\n",
              "      <td>1.0</td>\n",
              "      <td>6.0</td>\n",
              "      <td>3</td>\n",
              "      <td>11</td>\n",
              "      <td>4</td>\n",
              "    </tr>\n",
              "    <tr>\n",
              "      <th>4</th>\n",
              "      <td>ID_8PEN</td>\n",
              "      <td>ID_I1L9</td>\n",
              "      <td>[1]</td>\n",
              "      <td>[]</td>\n",
              "      <td>5.0</td>\n",
              "      <td>0</td>\n",
              "      <td>2</td>\n",
              "      <td>2</td>\n",
              "      <td>0</td>\n",
              "      <td>200.0</td>\n",
              "      <td>[1]</td>\n",
              "      <td>2</td>\n",
              "      <td>11.0</td>\n",
              "      <td>6.0</td>\n",
              "      <td>2</td>\n",
              "      <td>11</td>\n",
              "      <td>4</td>\n",
              "    </tr>\n",
              "  </tbody>\n",
              "</table>\n",
              "</div>\n",
              "      <button class=\"colab-df-convert\" onclick=\"convertToInteractive('df-48f38063-669c-44b2-a46f-e1eb5b2a58c3')\"\n",
              "              title=\"Convert this dataframe to an interactive table.\"\n",
              "              style=\"display:none;\">\n",
              "        \n",
              "  <svg xmlns=\"http://www.w3.org/2000/svg\" height=\"24px\"viewBox=\"0 0 24 24\"\n",
              "       width=\"24px\">\n",
              "    <path d=\"M0 0h24v24H0V0z\" fill=\"none\"/>\n",
              "    <path d=\"M18.56 5.44l.94 2.06.94-2.06 2.06-.94-2.06-.94-.94-2.06-.94 2.06-2.06.94zm-11 1L8.5 8.5l.94-2.06 2.06-.94-2.06-.94L8.5 2.5l-.94 2.06-2.06.94zm10 10l.94 2.06.94-2.06 2.06-.94-2.06-.94-.94-2.06-.94 2.06-2.06.94z\"/><path d=\"M17.41 7.96l-1.37-1.37c-.4-.4-.92-.59-1.43-.59-.52 0-1.04.2-1.43.59L10.3 9.45l-7.72 7.72c-.78.78-.78 2.05 0 2.83L4 21.41c.39.39.9.59 1.41.59.51 0 1.02-.2 1.41-.59l7.78-7.78 2.81-2.81c.8-.78.8-2.07 0-2.86zM5.41 20L4 18.59l7.72-7.72 1.47 1.35L5.41 20z\"/>\n",
              "  </svg>\n",
              "      </button>\n",
              "      \n",
              "  <style>\n",
              "    .colab-df-container {\n",
              "      display:flex;\n",
              "      flex-wrap:wrap;\n",
              "      gap: 12px;\n",
              "    }\n",
              "\n",
              "    .colab-df-convert {\n",
              "      background-color: #E8F0FE;\n",
              "      border: none;\n",
              "      border-radius: 50%;\n",
              "      cursor: pointer;\n",
              "      display: none;\n",
              "      fill: #1967D2;\n",
              "      height: 32px;\n",
              "      padding: 0 0 0 0;\n",
              "      width: 32px;\n",
              "    }\n",
              "\n",
              "    .colab-df-convert:hover {\n",
              "      background-color: #E2EBFA;\n",
              "      box-shadow: 0px 1px 2px rgba(60, 64, 67, 0.3), 0px 1px 3px 1px rgba(60, 64, 67, 0.15);\n",
              "      fill: #174EA6;\n",
              "    }\n",
              "\n",
              "    [theme=dark] .colab-df-convert {\n",
              "      background-color: #3B4455;\n",
              "      fill: #D2E3FC;\n",
              "    }\n",
              "\n",
              "    [theme=dark] .colab-df-convert:hover {\n",
              "      background-color: #434B5C;\n",
              "      box-shadow: 0px 1px 3px 1px rgba(0, 0, 0, 0.15);\n",
              "      filter: drop-shadow(0px 1px 2px rgba(0, 0, 0, 0.3));\n",
              "      fill: #FFFFFF;\n",
              "    }\n",
              "  </style>\n",
              "\n",
              "      <script>\n",
              "        const buttonEl =\n",
              "          document.querySelector('#df-48f38063-669c-44b2-a46f-e1eb5b2a58c3 button.colab-df-convert');\n",
              "        buttonEl.style.display =\n",
              "          google.colab.kernel.accessAllowed ? 'block' : 'none';\n",
              "\n",
              "        async function convertToInteractive(key) {\n",
              "          const element = document.querySelector('#df-48f38063-669c-44b2-a46f-e1eb5b2a58c3');\n",
              "          const dataTable =\n",
              "            await google.colab.kernel.invokeFunction('convertToInteractive',\n",
              "                                                     [key], {});\n",
              "          if (!dataTable) return;\n",
              "\n",
              "          const docLinkHtml = 'Like what you see? Visit the ' +\n",
              "            '<a target=\"_blank\" href=https://colab.research.google.com/notebooks/data_table.ipynb>data table notebook</a>'\n",
              "            + ' to learn more about interactive tables.';\n",
              "          element.innerHTML = '';\n",
              "          dataTable['output_type'] = 'display_data';\n",
              "          await google.colab.output.renderOutput(dataTable, element);\n",
              "          const docLink = document.createElement('div');\n",
              "          docLink.innerHTML = docLinkHtml;\n",
              "          element.appendChild(docLink);\n",
              "        }\n",
              "      </script>\n",
              "    </div>\n",
              "  </div>\n",
              "  "
            ],
            "text/plain": [
              "    CompID  Country  ... CompStartTime Month CompStartTime Day_of_week\n",
              "0  ID_WGZ2  ID_HWRH  ...                   6                         5\n",
              "1  ID_G370      NaN  ...                  12                         7\n",
              "2  ID_R5HL      NaN  ...                  10                         4\n",
              "3  ID_Y6XI  ID_ARVG  ...                  11                         4\n",
              "4  ID_8PEN  ID_I1L9  ...                  11                         4\n",
              "\n",
              "[5 rows x 17 columns]"
            ]
          },
          "execution_count": 4,
          "metadata": {},
          "output_type": "execute_result"
        }
      ],
      "source": [
        "competitions = pd.read_csv('Competitions.csv')\n",
        "competitions.head()"
      ]
    },
    {
      "cell_type": "code",
      "execution_count": 5,
      "metadata": {
        "colab": {
          "base_uri": "https://localhost:8080/"
        },
        "id": "VH5Coznlunf3",
        "outputId": "662e9546-f1cb-47a9-ffb6-c82bdd5a1783"
      },
      "outputs": [
        {
          "data": {
            "text/plain": [
              "(154, 17)"
            ]
          },
          "execution_count": 5,
          "metadata": {},
          "output_type": "execute_result"
        }
      ],
      "source": [
        "competitions.shape"
      ]
    },
    {
      "cell_type": "code",
      "execution_count": 6,
      "metadata": {
        "colab": {
          "base_uri": "https://localhost:8080/",
          "height": 268
        },
        "id": "aWLi2kitvkSO",
        "outputId": "54a83f2b-d840-42ef-b9a7-fb4b3a06a635"
      },
      "outputs": [
        {
          "data": {
            "text/html": [
              "\n",
              "  <div id=\"df-35494462-50fe-4423-bbab-40dc9ff7f157\">\n",
              "    <div class=\"colab-df-container\">\n",
              "      <div>\n",
              "<style scoped>\n",
              "    .dataframe tbody tr th:only-of-type {\n",
              "        vertical-align: middle;\n",
              "    }\n",
              "\n",
              "    .dataframe tbody tr th {\n",
              "        vertical-align: top;\n",
              "    }\n",
              "\n",
              "    .dataframe thead th {\n",
              "        text-align: right;\n",
              "    }\n",
              "</style>\n",
              "<table border=\"1\" class=\"dataframe\">\n",
              "  <thead>\n",
              "    <tr style=\"text-align: right;\">\n",
              "      <th></th>\n",
              "      <th>CompID</th>\n",
              "      <th>UserID</th>\n",
              "      <th>PublicRank</th>\n",
              "      <th>Successful Submission Count</th>\n",
              "      <th>CompPartCreated Year</th>\n",
              "      <th>CompPartCreated Month</th>\n",
              "      <th>CompPartCreated Day_of_week</th>\n",
              "    </tr>\n",
              "  </thead>\n",
              "  <tbody>\n",
              "    <tr>\n",
              "      <th>0</th>\n",
              "      <td>ID_WMUF</td>\n",
              "      <td>ID_UWBBZ9OF</td>\n",
              "      <td>rank 11</td>\n",
              "      <td>count 10</td>\n",
              "      <td>3</td>\n",
              "      <td>1</td>\n",
              "      <td>4</td>\n",
              "    </tr>\n",
              "    <tr>\n",
              "      <th>1</th>\n",
              "      <td>ID_MPSN</td>\n",
              "      <td>ID_UWBBZ9OF</td>\n",
              "      <td>NaN</td>\n",
              "      <td>NaN</td>\n",
              "      <td>3</td>\n",
              "      <td>1</td>\n",
              "      <td>7</td>\n",
              "    </tr>\n",
              "    <tr>\n",
              "      <th>2</th>\n",
              "      <td>ID_WMUF</td>\n",
              "      <td>ID_1N5J2PGO</td>\n",
              "      <td>NaN</td>\n",
              "      <td>count 10</td>\n",
              "      <td>3</td>\n",
              "      <td>1</td>\n",
              "      <td>5</td>\n",
              "    </tr>\n",
              "    <tr>\n",
              "      <th>3</th>\n",
              "      <td>ID_7MLO</td>\n",
              "      <td>ID_1N5J2PGO</td>\n",
              "      <td>NaN</td>\n",
              "      <td>NaN</td>\n",
              "      <td>2</td>\n",
              "      <td>10</td>\n",
              "      <td>5</td>\n",
              "    </tr>\n",
              "    <tr>\n",
              "      <th>4</th>\n",
              "      <td>ID_2KEY</td>\n",
              "      <td>ID_1N5J2PGO</td>\n",
              "      <td>NaN</td>\n",
              "      <td>NaN</td>\n",
              "      <td>2</td>\n",
              "      <td>5</td>\n",
              "      <td>4</td>\n",
              "    </tr>\n",
              "  </tbody>\n",
              "</table>\n",
              "</div>\n",
              "      <button class=\"colab-df-convert\" onclick=\"convertToInteractive('df-35494462-50fe-4423-bbab-40dc9ff7f157')\"\n",
              "              title=\"Convert this dataframe to an interactive table.\"\n",
              "              style=\"display:none;\">\n",
              "        \n",
              "  <svg xmlns=\"http://www.w3.org/2000/svg\" height=\"24px\"viewBox=\"0 0 24 24\"\n",
              "       width=\"24px\">\n",
              "    <path d=\"M0 0h24v24H0V0z\" fill=\"none\"/>\n",
              "    <path d=\"M18.56 5.44l.94 2.06.94-2.06 2.06-.94-2.06-.94-.94-2.06-.94 2.06-2.06.94zm-11 1L8.5 8.5l.94-2.06 2.06-.94-2.06-.94L8.5 2.5l-.94 2.06-2.06.94zm10 10l.94 2.06.94-2.06 2.06-.94-2.06-.94-.94-2.06-.94 2.06-2.06.94z\"/><path d=\"M17.41 7.96l-1.37-1.37c-.4-.4-.92-.59-1.43-.59-.52 0-1.04.2-1.43.59L10.3 9.45l-7.72 7.72c-.78.78-.78 2.05 0 2.83L4 21.41c.39.39.9.59 1.41.59.51 0 1.02-.2 1.41-.59l7.78-7.78 2.81-2.81c.8-.78.8-2.07 0-2.86zM5.41 20L4 18.59l7.72-7.72 1.47 1.35L5.41 20z\"/>\n",
              "  </svg>\n",
              "      </button>\n",
              "      \n",
              "  <style>\n",
              "    .colab-df-container {\n",
              "      display:flex;\n",
              "      flex-wrap:wrap;\n",
              "      gap: 12px;\n",
              "    }\n",
              "\n",
              "    .colab-df-convert {\n",
              "      background-color: #E8F0FE;\n",
              "      border: none;\n",
              "      border-radius: 50%;\n",
              "      cursor: pointer;\n",
              "      display: none;\n",
              "      fill: #1967D2;\n",
              "      height: 32px;\n",
              "      padding: 0 0 0 0;\n",
              "      width: 32px;\n",
              "    }\n",
              "\n",
              "    .colab-df-convert:hover {\n",
              "      background-color: #E2EBFA;\n",
              "      box-shadow: 0px 1px 2px rgba(60, 64, 67, 0.3), 0px 1px 3px 1px rgba(60, 64, 67, 0.15);\n",
              "      fill: #174EA6;\n",
              "    }\n",
              "\n",
              "    [theme=dark] .colab-df-convert {\n",
              "      background-color: #3B4455;\n",
              "      fill: #D2E3FC;\n",
              "    }\n",
              "\n",
              "    [theme=dark] .colab-df-convert:hover {\n",
              "      background-color: #434B5C;\n",
              "      box-shadow: 0px 1px 3px 1px rgba(0, 0, 0, 0.15);\n",
              "      filter: drop-shadow(0px 1px 2px rgba(0, 0, 0, 0.3));\n",
              "      fill: #FFFFFF;\n",
              "    }\n",
              "  </style>\n",
              "\n",
              "      <script>\n",
              "        const buttonEl =\n",
              "          document.querySelector('#df-35494462-50fe-4423-bbab-40dc9ff7f157 button.colab-df-convert');\n",
              "        buttonEl.style.display =\n",
              "          google.colab.kernel.accessAllowed ? 'block' : 'none';\n",
              "\n",
              "        async function convertToInteractive(key) {\n",
              "          const element = document.querySelector('#df-35494462-50fe-4423-bbab-40dc9ff7f157');\n",
              "          const dataTable =\n",
              "            await google.colab.kernel.invokeFunction('convertToInteractive',\n",
              "                                                     [key], {});\n",
              "          if (!dataTable) return;\n",
              "\n",
              "          const docLinkHtml = 'Like what you see? Visit the ' +\n",
              "            '<a target=\"_blank\" href=https://colab.research.google.com/notebooks/data_table.ipynb>data table notebook</a>'\n",
              "            + ' to learn more about interactive tables.';\n",
              "          element.innerHTML = '';\n",
              "          dataTable['output_type'] = 'display_data';\n",
              "          await google.colab.output.renderOutput(dataTable, element);\n",
              "          const docLink = document.createElement('div');\n",
              "          docLink.innerHTML = docLinkHtml;\n",
              "          element.appendChild(docLink);\n",
              "        }\n",
              "      </script>\n",
              "    </div>\n",
              "  </div>\n",
              "  "
            ],
            "text/plain": [
              "    CompID       UserID  ... CompPartCreated Month CompPartCreated Day_of_week\n",
              "0  ID_WMUF  ID_UWBBZ9OF  ...                     1                           4\n",
              "1  ID_MPSN  ID_UWBBZ9OF  ...                     1                           7\n",
              "2  ID_WMUF  ID_1N5J2PGO  ...                     1                           5\n",
              "3  ID_7MLO  ID_1N5J2PGO  ...                    10                           5\n",
              "4  ID_2KEY  ID_1N5J2PGO  ...                     5                           4\n",
              "\n",
              "[5 rows x 7 columns]"
            ]
          },
          "execution_count": 6,
          "metadata": {},
          "output_type": "execute_result"
        }
      ],
      "source": [
        "comppart = pd.read_csv('CompetitionPartipation.csv')\n",
        "comppart.head()"
      ]
    },
    {
      "cell_type": "code",
      "execution_count": 7,
      "metadata": {
        "colab": {
          "base_uri": "https://localhost:8080/"
        },
        "id": "3QTBKwMyv79J",
        "outputId": "6795e18b-f524-4b88-e5f8-b8a9c9251dd6"
      },
      "outputs": [
        {
          "data": {
            "text/plain": [
              "(48565, 7)"
            ]
          },
          "execution_count": 7,
          "metadata": {},
          "output_type": "execute_result"
        }
      ],
      "source": [
        "comppart.shape"
      ]
    },
    {
      "cell_type": "code",
      "execution_count": 8,
      "metadata": {
        "colab": {
          "base_uri": "https://localhost:8080/",
          "height": 206
        },
        "id": "d_ieys3MwJAX",
        "outputId": "04aa5b57-3df6-4b15-f9b0-98881a69d451"
      },
      "outputs": [
        {
          "data": {
            "text/html": [
              "\n",
              "  <div id=\"df-c1c6aaae-5a71-4b07-a03c-62eae3592d85\">\n",
              "    <div class=\"colab-df-container\">\n",
              "      <div>\n",
              "<style scoped>\n",
              "    .dataframe tbody tr th:only-of-type {\n",
              "        vertical-align: middle;\n",
              "    }\n",
              "\n",
              "    .dataframe tbody tr th {\n",
              "        vertical-align: top;\n",
              "    }\n",
              "\n",
              "    .dataframe thead th {\n",
              "        text-align: right;\n",
              "    }\n",
              "</style>\n",
              "<table border=\"1\" class=\"dataframe\">\n",
              "  <thead>\n",
              "    <tr style=\"text-align: right;\">\n",
              "      <th></th>\n",
              "      <th>UserID</th>\n",
              "      <th>FeatureX</th>\n",
              "      <th>Country</th>\n",
              "      <th>FeatureY</th>\n",
              "      <th>Points</th>\n",
              "      <th>UserDate Year</th>\n",
              "      <th>UserDate Month</th>\n",
              "      <th>UserDate Day_of_week</th>\n",
              "    </tr>\n",
              "  </thead>\n",
              "  <tbody>\n",
              "    <tr>\n",
              "      <th>0</th>\n",
              "      <td>ID_N5LTBAPU</td>\n",
              "      <td>0</td>\n",
              "      <td>ID_DMRM</td>\n",
              "      <td>1</td>\n",
              "      <td>group 3</td>\n",
              "      <td>2</td>\n",
              "      <td>4</td>\n",
              "      <td>4</td>\n",
              "    </tr>\n",
              "    <tr>\n",
              "      <th>1</th>\n",
              "      <td>ID_CLSFQB0S</td>\n",
              "      <td>0</td>\n",
              "      <td>ID_Q02</td>\n",
              "      <td>3</td>\n",
              "      <td>group 3</td>\n",
              "      <td>1</td>\n",
              "      <td>5</td>\n",
              "      <td>4</td>\n",
              "    </tr>\n",
              "    <tr>\n",
              "      <th>2</th>\n",
              "      <td>ID_RE6T58Y4</td>\n",
              "      <td>0</td>\n",
              "      <td>ID_Q02</td>\n",
              "      <td>0</td>\n",
              "      <td>group 3</td>\n",
              "      <td>2</td>\n",
              "      <td>12</td>\n",
              "      <td>3</td>\n",
              "    </tr>\n",
              "    <tr>\n",
              "      <th>3</th>\n",
              "      <td>ID_XJQQRJV3</td>\n",
              "      <td>0</td>\n",
              "      <td>ID_Z8BI</td>\n",
              "      <td>0</td>\n",
              "      <td>group 3</td>\n",
              "      <td>2</td>\n",
              "      <td>9</td>\n",
              "      <td>2</td>\n",
              "    </tr>\n",
              "    <tr>\n",
              "      <th>4</th>\n",
              "      <td>ID_1JHU6A8S</td>\n",
              "      <td>0</td>\n",
              "      <td>ID_Q02</td>\n",
              "      <td>3</td>\n",
              "      <td>group 3</td>\n",
              "      <td>2</td>\n",
              "      <td>10</td>\n",
              "      <td>1</td>\n",
              "    </tr>\n",
              "  </tbody>\n",
              "</table>\n",
              "</div>\n",
              "      <button class=\"colab-df-convert\" onclick=\"convertToInteractive('df-c1c6aaae-5a71-4b07-a03c-62eae3592d85')\"\n",
              "              title=\"Convert this dataframe to an interactive table.\"\n",
              "              style=\"display:none;\">\n",
              "        \n",
              "  <svg xmlns=\"http://www.w3.org/2000/svg\" height=\"24px\"viewBox=\"0 0 24 24\"\n",
              "       width=\"24px\">\n",
              "    <path d=\"M0 0h24v24H0V0z\" fill=\"none\"/>\n",
              "    <path d=\"M18.56 5.44l.94 2.06.94-2.06 2.06-.94-2.06-.94-.94-2.06-.94 2.06-2.06.94zm-11 1L8.5 8.5l.94-2.06 2.06-.94-2.06-.94L8.5 2.5l-.94 2.06-2.06.94zm10 10l.94 2.06.94-2.06 2.06-.94-2.06-.94-.94-2.06-.94 2.06-2.06.94z\"/><path d=\"M17.41 7.96l-1.37-1.37c-.4-.4-.92-.59-1.43-.59-.52 0-1.04.2-1.43.59L10.3 9.45l-7.72 7.72c-.78.78-.78 2.05 0 2.83L4 21.41c.39.39.9.59 1.41.59.51 0 1.02-.2 1.41-.59l7.78-7.78 2.81-2.81c.8-.78.8-2.07 0-2.86zM5.41 20L4 18.59l7.72-7.72 1.47 1.35L5.41 20z\"/>\n",
              "  </svg>\n",
              "      </button>\n",
              "      \n",
              "  <style>\n",
              "    .colab-df-container {\n",
              "      display:flex;\n",
              "      flex-wrap:wrap;\n",
              "      gap: 12px;\n",
              "    }\n",
              "\n",
              "    .colab-df-convert {\n",
              "      background-color: #E8F0FE;\n",
              "      border: none;\n",
              "      border-radius: 50%;\n",
              "      cursor: pointer;\n",
              "      display: none;\n",
              "      fill: #1967D2;\n",
              "      height: 32px;\n",
              "      padding: 0 0 0 0;\n",
              "      width: 32px;\n",
              "    }\n",
              "\n",
              "    .colab-df-convert:hover {\n",
              "      background-color: #E2EBFA;\n",
              "      box-shadow: 0px 1px 2px rgba(60, 64, 67, 0.3), 0px 1px 3px 1px rgba(60, 64, 67, 0.15);\n",
              "      fill: #174EA6;\n",
              "    }\n",
              "\n",
              "    [theme=dark] .colab-df-convert {\n",
              "      background-color: #3B4455;\n",
              "      fill: #D2E3FC;\n",
              "    }\n",
              "\n",
              "    [theme=dark] .colab-df-convert:hover {\n",
              "      background-color: #434B5C;\n",
              "      box-shadow: 0px 1px 3px 1px rgba(0, 0, 0, 0.15);\n",
              "      filter: drop-shadow(0px 1px 2px rgba(0, 0, 0, 0.3));\n",
              "      fill: #FFFFFF;\n",
              "    }\n",
              "  </style>\n",
              "\n",
              "      <script>\n",
              "        const buttonEl =\n",
              "          document.querySelector('#df-c1c6aaae-5a71-4b07-a03c-62eae3592d85 button.colab-df-convert');\n",
              "        buttonEl.style.display =\n",
              "          google.colab.kernel.accessAllowed ? 'block' : 'none';\n",
              "\n",
              "        async function convertToInteractive(key) {\n",
              "          const element = document.querySelector('#df-c1c6aaae-5a71-4b07-a03c-62eae3592d85');\n",
              "          const dataTable =\n",
              "            await google.colab.kernel.invokeFunction('convertToInteractive',\n",
              "                                                     [key], {});\n",
              "          if (!dataTable) return;\n",
              "\n",
              "          const docLinkHtml = 'Like what you see? Visit the ' +\n",
              "            '<a target=\"_blank\" href=https://colab.research.google.com/notebooks/data_table.ipynb>data table notebook</a>'\n",
              "            + ' to learn more about interactive tables.';\n",
              "          element.innerHTML = '';\n",
              "          dataTable['output_type'] = 'display_data';\n",
              "          await google.colab.output.renderOutput(dataTable, element);\n",
              "          const docLink = document.createElement('div');\n",
              "          docLink.innerHTML = docLinkHtml;\n",
              "          element.appendChild(docLink);\n",
              "        }\n",
              "      </script>\n",
              "    </div>\n",
              "  </div>\n",
              "  "
            ],
            "text/plain": [
              "        UserID  FeatureX  ... UserDate Month  UserDate Day_of_week\n",
              "0  ID_N5LTBAPU         0  ...              4                     4\n",
              "1  ID_CLSFQB0S         0  ...              5                     4\n",
              "2  ID_RE6T58Y4         0  ...             12                     3\n",
              "3  ID_XJQQRJV3         0  ...              9                     2\n",
              "4  ID_1JHU6A8S         0  ...             10                     1\n",
              "\n",
              "[5 rows x 8 columns]"
            ]
          },
          "execution_count": 8,
          "metadata": {},
          "output_type": "execute_result"
        }
      ],
      "source": [
        "users = pd.read_csv('Users.csv')\n",
        "users.head()"
      ]
    },
    {
      "cell_type": "code",
      "execution_count": 9,
      "metadata": {
        "colab": {
          "base_uri": "https://localhost:8080/"
        },
        "id": "mg_6nyCcwtt0",
        "outputId": "f60dcbd3-b3ad-460d-8b11-041c68150495"
      },
      "outputs": [
        {
          "data": {
            "text/plain": [
              "(22407, 8)"
            ]
          },
          "execution_count": 9,
          "metadata": {},
          "output_type": "execute_result"
        }
      ],
      "source": [
        "users.shape"
      ]
    },
    {
      "cell_type": "code",
      "execution_count": 10,
      "metadata": {
        "colab": {
          "base_uri": "https://localhost:8080/",
          "height": 206
        },
        "id": "q6j9q1IT1KHW",
        "outputId": "e0a3b96b-bffc-4a8a-c990-98d7bd7b2ab1"
      },
      "outputs": [
        {
          "data": {
            "text/html": [
              "\n",
              "  <div id=\"df-53a6eb7e-019f-4ea1-881a-9c7db8bf9992\">\n",
              "    <div class=\"colab-df-container\">\n",
              "      <div>\n",
              "<style scoped>\n",
              "    .dataframe tbody tr th:only-of-type {\n",
              "        vertical-align: middle;\n",
              "    }\n",
              "\n",
              "    .dataframe tbody tr th {\n",
              "        vertical-align: top;\n",
              "    }\n",
              "\n",
              "    .dataframe thead th {\n",
              "        text-align: right;\n",
              "    }\n",
              "</style>\n",
              "<table border=\"1\" class=\"dataframe\">\n",
              "  <thead>\n",
              "    <tr style=\"text-align: right;\">\n",
              "      <th></th>\n",
              "      <th>UserID</th>\n",
              "      <th>FeatureG</th>\n",
              "      <th>CompID</th>\n",
              "      <th>SubDate Year</th>\n",
              "      <th>SubDate Month</th>\n",
              "      <th>SubDate Day_of_week</th>\n",
              "    </tr>\n",
              "  </thead>\n",
              "  <tbody>\n",
              "    <tr>\n",
              "      <th>0</th>\n",
              "      <td>ID_8JP75F20</td>\n",
              "      <td>1</td>\n",
              "      <td>ID_GFDE</td>\n",
              "      <td>3</td>\n",
              "      <td>3</td>\n",
              "      <td>2</td>\n",
              "    </tr>\n",
              "    <tr>\n",
              "      <th>1</th>\n",
              "      <td>ID_8JP75F20</td>\n",
              "      <td>1</td>\n",
              "      <td>ID_GFDE</td>\n",
              "      <td>3</td>\n",
              "      <td>3</td>\n",
              "      <td>2</td>\n",
              "    </tr>\n",
              "    <tr>\n",
              "      <th>2</th>\n",
              "      <td>ID_8JP75F20</td>\n",
              "      <td>1</td>\n",
              "      <td>ID_GFDE</td>\n",
              "      <td>3</td>\n",
              "      <td>3</td>\n",
              "      <td>4</td>\n",
              "    </tr>\n",
              "    <tr>\n",
              "      <th>3</th>\n",
              "      <td>ID_8JP75F20</td>\n",
              "      <td>1</td>\n",
              "      <td>ID_GFDE</td>\n",
              "      <td>3</td>\n",
              "      <td>3</td>\n",
              "      <td>2</td>\n",
              "    </tr>\n",
              "    <tr>\n",
              "      <th>4</th>\n",
              "      <td>ID_8JP75F20</td>\n",
              "      <td>1</td>\n",
              "      <td>ID_GFDE</td>\n",
              "      <td>3</td>\n",
              "      <td>3</td>\n",
              "      <td>4</td>\n",
              "    </tr>\n",
              "  </tbody>\n",
              "</table>\n",
              "</div>\n",
              "      <button class=\"colab-df-convert\" onclick=\"convertToInteractive('df-53a6eb7e-019f-4ea1-881a-9c7db8bf9992')\"\n",
              "              title=\"Convert this dataframe to an interactive table.\"\n",
              "              style=\"display:none;\">\n",
              "        \n",
              "  <svg xmlns=\"http://www.w3.org/2000/svg\" height=\"24px\"viewBox=\"0 0 24 24\"\n",
              "       width=\"24px\">\n",
              "    <path d=\"M0 0h24v24H0V0z\" fill=\"none\"/>\n",
              "    <path d=\"M18.56 5.44l.94 2.06.94-2.06 2.06-.94-2.06-.94-.94-2.06-.94 2.06-2.06.94zm-11 1L8.5 8.5l.94-2.06 2.06-.94-2.06-.94L8.5 2.5l-.94 2.06-2.06.94zm10 10l.94 2.06.94-2.06 2.06-.94-2.06-.94-.94-2.06-.94 2.06-2.06.94z\"/><path d=\"M17.41 7.96l-1.37-1.37c-.4-.4-.92-.59-1.43-.59-.52 0-1.04.2-1.43.59L10.3 9.45l-7.72 7.72c-.78.78-.78 2.05 0 2.83L4 21.41c.39.39.9.59 1.41.59.51 0 1.02-.2 1.41-.59l7.78-7.78 2.81-2.81c.8-.78.8-2.07 0-2.86zM5.41 20L4 18.59l7.72-7.72 1.47 1.35L5.41 20z\"/>\n",
              "  </svg>\n",
              "      </button>\n",
              "      \n",
              "  <style>\n",
              "    .colab-df-container {\n",
              "      display:flex;\n",
              "      flex-wrap:wrap;\n",
              "      gap: 12px;\n",
              "    }\n",
              "\n",
              "    .colab-df-convert {\n",
              "      background-color: #E8F0FE;\n",
              "      border: none;\n",
              "      border-radius: 50%;\n",
              "      cursor: pointer;\n",
              "      display: none;\n",
              "      fill: #1967D2;\n",
              "      height: 32px;\n",
              "      padding: 0 0 0 0;\n",
              "      width: 32px;\n",
              "    }\n",
              "\n",
              "    .colab-df-convert:hover {\n",
              "      background-color: #E2EBFA;\n",
              "      box-shadow: 0px 1px 2px rgba(60, 64, 67, 0.3), 0px 1px 3px 1px rgba(60, 64, 67, 0.15);\n",
              "      fill: #174EA6;\n",
              "    }\n",
              "\n",
              "    [theme=dark] .colab-df-convert {\n",
              "      background-color: #3B4455;\n",
              "      fill: #D2E3FC;\n",
              "    }\n",
              "\n",
              "    [theme=dark] .colab-df-convert:hover {\n",
              "      background-color: #434B5C;\n",
              "      box-shadow: 0px 1px 3px 1px rgba(0, 0, 0, 0.15);\n",
              "      filter: drop-shadow(0px 1px 2px rgba(0, 0, 0, 0.3));\n",
              "      fill: #FFFFFF;\n",
              "    }\n",
              "  </style>\n",
              "\n",
              "      <script>\n",
              "        const buttonEl =\n",
              "          document.querySelector('#df-53a6eb7e-019f-4ea1-881a-9c7db8bf9992 button.colab-df-convert');\n",
              "        buttonEl.style.display =\n",
              "          google.colab.kernel.accessAllowed ? 'block' : 'none';\n",
              "\n",
              "        async function convertToInteractive(key) {\n",
              "          const element = document.querySelector('#df-53a6eb7e-019f-4ea1-881a-9c7db8bf9992');\n",
              "          const dataTable =\n",
              "            await google.colab.kernel.invokeFunction('convertToInteractive',\n",
              "                                                     [key], {});\n",
              "          if (!dataTable) return;\n",
              "\n",
              "          const docLinkHtml = 'Like what you see? Visit the ' +\n",
              "            '<a target=\"_blank\" href=https://colab.research.google.com/notebooks/data_table.ipynb>data table notebook</a>'\n",
              "            + ' to learn more about interactive tables.';\n",
              "          element.innerHTML = '';\n",
              "          dataTable['output_type'] = 'display_data';\n",
              "          await google.colab.output.renderOutput(dataTable, element);\n",
              "          const docLink = document.createElement('div');\n",
              "          docLink.innerHTML = docLinkHtml;\n",
              "          element.appendChild(docLink);\n",
              "        }\n",
              "      </script>\n",
              "    </div>\n",
              "  </div>\n",
              "  "
            ],
            "text/plain": [
              "        UserID  FeatureG  ... SubDate Month  SubDate Day_of_week\n",
              "0  ID_8JP75F20         1  ...             3                    2\n",
              "1  ID_8JP75F20         1  ...             3                    2\n",
              "2  ID_8JP75F20         1  ...             3                    4\n",
              "3  ID_8JP75F20         1  ...             3                    2\n",
              "4  ID_8JP75F20         1  ...             3                    4\n",
              "\n",
              "[5 rows x 6 columns]"
            ]
          },
          "execution_count": 10,
          "metadata": {},
          "output_type": "execute_result"
        }
      ],
      "source": [
        "submission = pd.read_csv('Submissions.csv')\n",
        "submission.head()"
      ]
    },
    {
      "cell_type": "code",
      "execution_count": 11,
      "metadata": {
        "colab": {
          "base_uri": "https://localhost:8080/"
        },
        "id": "cQnYZauD1gTQ",
        "outputId": "3fbe6652-8190-4445-9021-a5928c7f8655"
      },
      "outputs": [
        {
          "data": {
            "text/plain": [
              "(375763, 6)"
            ]
          },
          "execution_count": 11,
          "metadata": {},
          "output_type": "execute_result"
        }
      ],
      "source": [
        "submission.shape"
      ]
    },
    {
      "cell_type": "code",
      "execution_count": 12,
      "metadata": {
        "colab": {
          "base_uri": "https://localhost:8080/",
          "height": 206
        },
        "id": "q6SPWHLcwwf-",
        "outputId": "e31e0e9f-6520-4691-c484-ae51a3728074"
      },
      "outputs": [
        {
          "data": {
            "text/html": [
              "\n",
              "  <div id=\"df-df6b4e32-2b88-43c3-ac63-6ce70d32ee2b\">\n",
              "    <div class=\"colab-df-container\">\n",
              "      <div>\n",
              "<style scoped>\n",
              "    .dataframe tbody tr th:only-of-type {\n",
              "        vertical-align: middle;\n",
              "    }\n",
              "\n",
              "    .dataframe tbody tr th {\n",
              "        vertical-align: top;\n",
              "    }\n",
              "\n",
              "    .dataframe thead th {\n",
              "        text-align: right;\n",
              "    }\n",
              "</style>\n",
              "<table border=\"1\" class=\"dataframe\">\n",
              "  <thead>\n",
              "    <tr style=\"text-align: right;\">\n",
              "      <th></th>\n",
              "      <th>FeatureF</th>\n",
              "      <th>DiscDate Year</th>\n",
              "      <th>DiscDate Month</th>\n",
              "      <th>DiscDate Day_of_week</th>\n",
              "      <th>DiscID</th>\n",
              "      <th>UserID</th>\n",
              "    </tr>\n",
              "  </thead>\n",
              "  <tbody>\n",
              "    <tr>\n",
              "      <th>0</th>\n",
              "      <td>1</td>\n",
              "      <td>3</td>\n",
              "      <td>10</td>\n",
              "      <td>1</td>\n",
              "      <td>ID_Z77ETQ</td>\n",
              "      <td>ID_F2757IAI</td>\n",
              "    </tr>\n",
              "    <tr>\n",
              "      <th>1</th>\n",
              "      <td>0</td>\n",
              "      <td>3</td>\n",
              "      <td>12</td>\n",
              "      <td>3</td>\n",
              "      <td>ID_E47JKY</td>\n",
              "      <td>ID_F2757IAI</td>\n",
              "    </tr>\n",
              "    <tr>\n",
              "      <th>2</th>\n",
              "      <td>1</td>\n",
              "      <td>3</td>\n",
              "      <td>1</td>\n",
              "      <td>3</td>\n",
              "      <td>ID_CB4Y0N</td>\n",
              "      <td>ID_F2757IAI</td>\n",
              "    </tr>\n",
              "    <tr>\n",
              "      <th>3</th>\n",
              "      <td>0</td>\n",
              "      <td>3</td>\n",
              "      <td>9</td>\n",
              "      <td>7</td>\n",
              "      <td>ID_BNIHCF</td>\n",
              "      <td>ID_F2757IAI</td>\n",
              "    </tr>\n",
              "    <tr>\n",
              "      <th>4</th>\n",
              "      <td>1</td>\n",
              "      <td>3</td>\n",
              "      <td>5</td>\n",
              "      <td>7</td>\n",
              "      <td>ID_MLPYCO</td>\n",
              "      <td>ID_F2757IAI</td>\n",
              "    </tr>\n",
              "  </tbody>\n",
              "</table>\n",
              "</div>\n",
              "      <button class=\"colab-df-convert\" onclick=\"convertToInteractive('df-df6b4e32-2b88-43c3-ac63-6ce70d32ee2b')\"\n",
              "              title=\"Convert this dataframe to an interactive table.\"\n",
              "              style=\"display:none;\">\n",
              "        \n",
              "  <svg xmlns=\"http://www.w3.org/2000/svg\" height=\"24px\"viewBox=\"0 0 24 24\"\n",
              "       width=\"24px\">\n",
              "    <path d=\"M0 0h24v24H0V0z\" fill=\"none\"/>\n",
              "    <path d=\"M18.56 5.44l.94 2.06.94-2.06 2.06-.94-2.06-.94-.94-2.06-.94 2.06-2.06.94zm-11 1L8.5 8.5l.94-2.06 2.06-.94-2.06-.94L8.5 2.5l-.94 2.06-2.06.94zm10 10l.94 2.06.94-2.06 2.06-.94-2.06-.94-.94-2.06-.94 2.06-2.06.94z\"/><path d=\"M17.41 7.96l-1.37-1.37c-.4-.4-.92-.59-1.43-.59-.52 0-1.04.2-1.43.59L10.3 9.45l-7.72 7.72c-.78.78-.78 2.05 0 2.83L4 21.41c.39.39.9.59 1.41.59.51 0 1.02-.2 1.41-.59l7.78-7.78 2.81-2.81c.8-.78.8-2.07 0-2.86zM5.41 20L4 18.59l7.72-7.72 1.47 1.35L5.41 20z\"/>\n",
              "  </svg>\n",
              "      </button>\n",
              "      \n",
              "  <style>\n",
              "    .colab-df-container {\n",
              "      display:flex;\n",
              "      flex-wrap:wrap;\n",
              "      gap: 12px;\n",
              "    }\n",
              "\n",
              "    .colab-df-convert {\n",
              "      background-color: #E8F0FE;\n",
              "      border: none;\n",
              "      border-radius: 50%;\n",
              "      cursor: pointer;\n",
              "      display: none;\n",
              "      fill: #1967D2;\n",
              "      height: 32px;\n",
              "      padding: 0 0 0 0;\n",
              "      width: 32px;\n",
              "    }\n",
              "\n",
              "    .colab-df-convert:hover {\n",
              "      background-color: #E2EBFA;\n",
              "      box-shadow: 0px 1px 2px rgba(60, 64, 67, 0.3), 0px 1px 3px 1px rgba(60, 64, 67, 0.15);\n",
              "      fill: #174EA6;\n",
              "    }\n",
              "\n",
              "    [theme=dark] .colab-df-convert {\n",
              "      background-color: #3B4455;\n",
              "      fill: #D2E3FC;\n",
              "    }\n",
              "\n",
              "    [theme=dark] .colab-df-convert:hover {\n",
              "      background-color: #434B5C;\n",
              "      box-shadow: 0px 1px 3px 1px rgba(0, 0, 0, 0.15);\n",
              "      filter: drop-shadow(0px 1px 2px rgba(0, 0, 0, 0.3));\n",
              "      fill: #FFFFFF;\n",
              "    }\n",
              "  </style>\n",
              "\n",
              "      <script>\n",
              "        const buttonEl =\n",
              "          document.querySelector('#df-df6b4e32-2b88-43c3-ac63-6ce70d32ee2b button.colab-df-convert');\n",
              "        buttonEl.style.display =\n",
              "          google.colab.kernel.accessAllowed ? 'block' : 'none';\n",
              "\n",
              "        async function convertToInteractive(key) {\n",
              "          const element = document.querySelector('#df-df6b4e32-2b88-43c3-ac63-6ce70d32ee2b');\n",
              "          const dataTable =\n",
              "            await google.colab.kernel.invokeFunction('convertToInteractive',\n",
              "                                                     [key], {});\n",
              "          if (!dataTable) return;\n",
              "\n",
              "          const docLinkHtml = 'Like what you see? Visit the ' +\n",
              "            '<a target=\"_blank\" href=https://colab.research.google.com/notebooks/data_table.ipynb>data table notebook</a>'\n",
              "            + ' to learn more about interactive tables.';\n",
              "          element.innerHTML = '';\n",
              "          dataTable['output_type'] = 'display_data';\n",
              "          await google.colab.output.renderOutput(dataTable, element);\n",
              "          const docLink = document.createElement('div');\n",
              "          docLink.innerHTML = docLinkHtml;\n",
              "          element.appendChild(docLink);\n",
              "        }\n",
              "      </script>\n",
              "    </div>\n",
              "  </div>\n",
              "  "
            ],
            "text/plain": [
              "   FeatureF  DiscDate Year  ...     DiscID       UserID\n",
              "0         1              3  ...  ID_Z77ETQ  ID_F2757IAI\n",
              "1         0              3  ...  ID_E47JKY  ID_F2757IAI\n",
              "2         1              3  ...  ID_CB4Y0N  ID_F2757IAI\n",
              "3         0              3  ...  ID_BNIHCF  ID_F2757IAI\n",
              "4         1              3  ...  ID_MLPYCO  ID_F2757IAI\n",
              "\n",
              "[5 rows x 6 columns]"
            ]
          },
          "execution_count": 12,
          "metadata": {},
          "output_type": "execute_result"
        }
      ],
      "source": [
        "discussion = pd.read_csv('Discussions.csv')\n",
        "discussion.head()"
      ]
    },
    {
      "cell_type": "code",
      "execution_count": 13,
      "metadata": {
        "colab": {
          "base_uri": "https://localhost:8080/"
        },
        "id": "nmr7ec8bzm11",
        "outputId": "8df3b2fa-cd2c-4940-f102-1fd0a71afde6"
      },
      "outputs": [
        {
          "data": {
            "text/plain": [
              "(6211, 6)"
            ]
          },
          "execution_count": 13,
          "metadata": {},
          "output_type": "execute_result"
        }
      ],
      "source": [
        "discussion.shape"
      ]
    },
    {
      "cell_type": "code",
      "execution_count": 14,
      "metadata": {
        "colab": {
          "base_uri": "https://localhost:8080/",
          "height": 206
        },
        "id": "v3J9ajlhzmyr",
        "outputId": "5a009c43-b84c-4864-f091-e4feef7d2fce"
      },
      "outputs": [
        {
          "data": {
            "text/html": [
              "\n",
              "  <div id=\"df-fc808945-7260-4499-a2e6-b8138fcc6bb0\">\n",
              "    <div class=\"colab-df-container\">\n",
              "      <div>\n",
              "<style scoped>\n",
              "    .dataframe tbody tr th:only-of-type {\n",
              "        vertical-align: middle;\n",
              "    }\n",
              "\n",
              "    .dataframe tbody tr th {\n",
              "        vertical-align: top;\n",
              "    }\n",
              "\n",
              "    .dataframe thead th {\n",
              "        text-align: right;\n",
              "    }\n",
              "</style>\n",
              "<table border=\"1\" class=\"dataframe\">\n",
              "  <thead>\n",
              "    <tr style=\"text-align: right;\">\n",
              "      <th></th>\n",
              "      <th>UserID</th>\n",
              "      <th>CommentDate Year</th>\n",
              "      <th>CommentDate Month</th>\n",
              "      <th>CommentDate Day_of_week</th>\n",
              "    </tr>\n",
              "  </thead>\n",
              "  <tbody>\n",
              "    <tr>\n",
              "      <th>0</th>\n",
              "      <td>ID_MVIB05DL</td>\n",
              "      <td>3</td>\n",
              "      <td>1</td>\n",
              "      <td>7</td>\n",
              "    </tr>\n",
              "    <tr>\n",
              "      <th>1</th>\n",
              "      <td>ID_MVIB05DL</td>\n",
              "      <td>3</td>\n",
              "      <td>1</td>\n",
              "      <td>7</td>\n",
              "    </tr>\n",
              "    <tr>\n",
              "      <th>2</th>\n",
              "      <td>ID_KBRFRAR9</td>\n",
              "      <td>3</td>\n",
              "      <td>1</td>\n",
              "      <td>7</td>\n",
              "    </tr>\n",
              "    <tr>\n",
              "      <th>3</th>\n",
              "      <td>ID_UDS6FRR8</td>\n",
              "      <td>3</td>\n",
              "      <td>1</td>\n",
              "      <td>7</td>\n",
              "    </tr>\n",
              "    <tr>\n",
              "      <th>4</th>\n",
              "      <td>ID_UDS6FRR8</td>\n",
              "      <td>3</td>\n",
              "      <td>1</td>\n",
              "      <td>7</td>\n",
              "    </tr>\n",
              "  </tbody>\n",
              "</table>\n",
              "</div>\n",
              "      <button class=\"colab-df-convert\" onclick=\"convertToInteractive('df-fc808945-7260-4499-a2e6-b8138fcc6bb0')\"\n",
              "              title=\"Convert this dataframe to an interactive table.\"\n",
              "              style=\"display:none;\">\n",
              "        \n",
              "  <svg xmlns=\"http://www.w3.org/2000/svg\" height=\"24px\"viewBox=\"0 0 24 24\"\n",
              "       width=\"24px\">\n",
              "    <path d=\"M0 0h24v24H0V0z\" fill=\"none\"/>\n",
              "    <path d=\"M18.56 5.44l.94 2.06.94-2.06 2.06-.94-2.06-.94-.94-2.06-.94 2.06-2.06.94zm-11 1L8.5 8.5l.94-2.06 2.06-.94-2.06-.94L8.5 2.5l-.94 2.06-2.06.94zm10 10l.94 2.06.94-2.06 2.06-.94-2.06-.94-.94-2.06-.94 2.06-2.06.94z\"/><path d=\"M17.41 7.96l-1.37-1.37c-.4-.4-.92-.59-1.43-.59-.52 0-1.04.2-1.43.59L10.3 9.45l-7.72 7.72c-.78.78-.78 2.05 0 2.83L4 21.41c.39.39.9.59 1.41.59.51 0 1.02-.2 1.41-.59l7.78-7.78 2.81-2.81c.8-.78.8-2.07 0-2.86zM5.41 20L4 18.59l7.72-7.72 1.47 1.35L5.41 20z\"/>\n",
              "  </svg>\n",
              "      </button>\n",
              "      \n",
              "  <style>\n",
              "    .colab-df-container {\n",
              "      display:flex;\n",
              "      flex-wrap:wrap;\n",
              "      gap: 12px;\n",
              "    }\n",
              "\n",
              "    .colab-df-convert {\n",
              "      background-color: #E8F0FE;\n",
              "      border: none;\n",
              "      border-radius: 50%;\n",
              "      cursor: pointer;\n",
              "      display: none;\n",
              "      fill: #1967D2;\n",
              "      height: 32px;\n",
              "      padding: 0 0 0 0;\n",
              "      width: 32px;\n",
              "    }\n",
              "\n",
              "    .colab-df-convert:hover {\n",
              "      background-color: #E2EBFA;\n",
              "      box-shadow: 0px 1px 2px rgba(60, 64, 67, 0.3), 0px 1px 3px 1px rgba(60, 64, 67, 0.15);\n",
              "      fill: #174EA6;\n",
              "    }\n",
              "\n",
              "    [theme=dark] .colab-df-convert {\n",
              "      background-color: #3B4455;\n",
              "      fill: #D2E3FC;\n",
              "    }\n",
              "\n",
              "    [theme=dark] .colab-df-convert:hover {\n",
              "      background-color: #434B5C;\n",
              "      box-shadow: 0px 1px 3px 1px rgba(0, 0, 0, 0.15);\n",
              "      filter: drop-shadow(0px 1px 2px rgba(0, 0, 0, 0.3));\n",
              "      fill: #FFFFFF;\n",
              "    }\n",
              "  </style>\n",
              "\n",
              "      <script>\n",
              "        const buttonEl =\n",
              "          document.querySelector('#df-fc808945-7260-4499-a2e6-b8138fcc6bb0 button.colab-df-convert');\n",
              "        buttonEl.style.display =\n",
              "          google.colab.kernel.accessAllowed ? 'block' : 'none';\n",
              "\n",
              "        async function convertToInteractive(key) {\n",
              "          const element = document.querySelector('#df-fc808945-7260-4499-a2e6-b8138fcc6bb0');\n",
              "          const dataTable =\n",
              "            await google.colab.kernel.invokeFunction('convertToInteractive',\n",
              "                                                     [key], {});\n",
              "          if (!dataTable) return;\n",
              "\n",
              "          const docLinkHtml = 'Like what you see? Visit the ' +\n",
              "            '<a target=\"_blank\" href=https://colab.research.google.com/notebooks/data_table.ipynb>data table notebook</a>'\n",
              "            + ' to learn more about interactive tables.';\n",
              "          element.innerHTML = '';\n",
              "          dataTable['output_type'] = 'display_data';\n",
              "          await google.colab.output.renderOutput(dataTable, element);\n",
              "          const docLink = document.createElement('div');\n",
              "          docLink.innerHTML = docLinkHtml;\n",
              "          element.appendChild(docLink);\n",
              "        }\n",
              "      </script>\n",
              "    </div>\n",
              "  </div>\n",
              "  "
            ],
            "text/plain": [
              "        UserID  CommentDate Year  CommentDate Month  CommentDate Day_of_week\n",
              "0  ID_MVIB05DL                 3                  1                        7\n",
              "1  ID_MVIB05DL                 3                  1                        7\n",
              "2  ID_KBRFRAR9                 3                  1                        7\n",
              "3  ID_UDS6FRR8                 3                  1                        7\n",
              "4  ID_UDS6FRR8                 3                  1                        7"
            ]
          },
          "execution_count": 14,
          "metadata": {},
          "output_type": "execute_result"
        }
      ],
      "source": [
        "comment = pd.read_csv('Comments.csv')\n",
        "comment.head()"
      ]
    },
    {
      "cell_type": "code",
      "execution_count": 15,
      "metadata": {
        "colab": {
          "base_uri": "https://localhost:8080/"
        },
        "id": "0cmYTXNDzx9-",
        "outputId": "dd56f713-d0c1-4284-b6b3-9f4d6bd99b3c"
      },
      "outputs": [
        {
          "data": {
            "text/plain": [
              "(11751, 4)"
            ]
          },
          "execution_count": 15,
          "metadata": {},
          "output_type": "execute_result"
        }
      ],
      "source": [
        "comment.shape"
      ]
    },
    {
      "cell_type": "code",
      "execution_count": 16,
      "metadata": {
        "colab": {
          "base_uri": "https://localhost:8080/",
          "height": 206
        },
        "id": "cUY8ZhfKuw0N",
        "outputId": "f9a7ac17-2b07-4a5a-e297-aad2f47def40"
      },
      "outputs": [
        {
          "data": {
            "text/html": [
              "\n",
              "  <div id=\"df-1a78feb4-12b6-4a3b-949b-92e63cc95997\">\n",
              "    <div class=\"colab-df-container\">\n",
              "      <div>\n",
              "<style scoped>\n",
              "    .dataframe tbody tr th:only-of-type {\n",
              "        vertical-align: middle;\n",
              "    }\n",
              "\n",
              "    .dataframe tbody tr th {\n",
              "        vertical-align: top;\n",
              "    }\n",
              "\n",
              "    .dataframe thead th {\n",
              "        text-align: right;\n",
              "    }\n",
              "</style>\n",
              "<table border=\"1\" class=\"dataframe\">\n",
              "  <thead>\n",
              "    <tr style=\"text-align: right;\">\n",
              "      <th></th>\n",
              "      <th>User_ID</th>\n",
              "      <th>month</th>\n",
              "      <th>year</th>\n",
              "      <th>CompPart</th>\n",
              "      <th>Comment</th>\n",
              "      <th>Sub</th>\n",
              "      <th>Disc</th>\n",
              "      <th>Target</th>\n",
              "    </tr>\n",
              "  </thead>\n",
              "  <tbody>\n",
              "    <tr>\n",
              "      <th>0</th>\n",
              "      <td>ID_XI7BAR4Y</td>\n",
              "      <td>8</td>\n",
              "      <td>3</td>\n",
              "      <td>0</td>\n",
              "      <td>0</td>\n",
              "      <td>0</td>\n",
              "      <td>0</td>\n",
              "      <td>0</td>\n",
              "    </tr>\n",
              "    <tr>\n",
              "      <th>1</th>\n",
              "      <td>ID_XI7BAR4Y</td>\n",
              "      <td>8</td>\n",
              "      <td>2</td>\n",
              "      <td>0</td>\n",
              "      <td>0</td>\n",
              "      <td>0</td>\n",
              "      <td>0</td>\n",
              "      <td>0</td>\n",
              "    </tr>\n",
              "    <tr>\n",
              "      <th>2</th>\n",
              "      <td>ID_XI7BAR4Y</td>\n",
              "      <td>9</td>\n",
              "      <td>2</td>\n",
              "      <td>0</td>\n",
              "      <td>0</td>\n",
              "      <td>0</td>\n",
              "      <td>0</td>\n",
              "      <td>0</td>\n",
              "    </tr>\n",
              "    <tr>\n",
              "      <th>3</th>\n",
              "      <td>ID_XI7BAR4Y</td>\n",
              "      <td>9</td>\n",
              "      <td>3</td>\n",
              "      <td>0</td>\n",
              "      <td>0</td>\n",
              "      <td>0</td>\n",
              "      <td>0</td>\n",
              "      <td>0</td>\n",
              "    </tr>\n",
              "    <tr>\n",
              "      <th>4</th>\n",
              "      <td>ID_XI7BAR4Y</td>\n",
              "      <td>10</td>\n",
              "      <td>3</td>\n",
              "      <td>0</td>\n",
              "      <td>0</td>\n",
              "      <td>0</td>\n",
              "      <td>0</td>\n",
              "      <td>0</td>\n",
              "    </tr>\n",
              "  </tbody>\n",
              "</table>\n",
              "</div>\n",
              "      <button class=\"colab-df-convert\" onclick=\"convertToInteractive('df-1a78feb4-12b6-4a3b-949b-92e63cc95997')\"\n",
              "              title=\"Convert this dataframe to an interactive table.\"\n",
              "              style=\"display:none;\">\n",
              "        \n",
              "  <svg xmlns=\"http://www.w3.org/2000/svg\" height=\"24px\"viewBox=\"0 0 24 24\"\n",
              "       width=\"24px\">\n",
              "    <path d=\"M0 0h24v24H0V0z\" fill=\"none\"/>\n",
              "    <path d=\"M18.56 5.44l.94 2.06.94-2.06 2.06-.94-2.06-.94-.94-2.06-.94 2.06-2.06.94zm-11 1L8.5 8.5l.94-2.06 2.06-.94-2.06-.94L8.5 2.5l-.94 2.06-2.06.94zm10 10l.94 2.06.94-2.06 2.06-.94-2.06-.94-.94-2.06-.94 2.06-2.06.94z\"/><path d=\"M17.41 7.96l-1.37-1.37c-.4-.4-.92-.59-1.43-.59-.52 0-1.04.2-1.43.59L10.3 9.45l-7.72 7.72c-.78.78-.78 2.05 0 2.83L4 21.41c.39.39.9.59 1.41.59.51 0 1.02-.2 1.41-.59l7.78-7.78 2.81-2.81c.8-.78.8-2.07 0-2.86zM5.41 20L4 18.59l7.72-7.72 1.47 1.35L5.41 20z\"/>\n",
              "  </svg>\n",
              "      </button>\n",
              "      \n",
              "  <style>\n",
              "    .colab-df-container {\n",
              "      display:flex;\n",
              "      flex-wrap:wrap;\n",
              "      gap: 12px;\n",
              "    }\n",
              "\n",
              "    .colab-df-convert {\n",
              "      background-color: #E8F0FE;\n",
              "      border: none;\n",
              "      border-radius: 50%;\n",
              "      cursor: pointer;\n",
              "      display: none;\n",
              "      fill: #1967D2;\n",
              "      height: 32px;\n",
              "      padding: 0 0 0 0;\n",
              "      width: 32px;\n",
              "    }\n",
              "\n",
              "    .colab-df-convert:hover {\n",
              "      background-color: #E2EBFA;\n",
              "      box-shadow: 0px 1px 2px rgba(60, 64, 67, 0.3), 0px 1px 3px 1px rgba(60, 64, 67, 0.15);\n",
              "      fill: #174EA6;\n",
              "    }\n",
              "\n",
              "    [theme=dark] .colab-df-convert {\n",
              "      background-color: #3B4455;\n",
              "      fill: #D2E3FC;\n",
              "    }\n",
              "\n",
              "    [theme=dark] .colab-df-convert:hover {\n",
              "      background-color: #434B5C;\n",
              "      box-shadow: 0px 1px 3px 1px rgba(0, 0, 0, 0.15);\n",
              "      filter: drop-shadow(0px 1px 2px rgba(0, 0, 0, 0.3));\n",
              "      fill: #FFFFFF;\n",
              "    }\n",
              "  </style>\n",
              "\n",
              "      <script>\n",
              "        const buttonEl =\n",
              "          document.querySelector('#df-1a78feb4-12b6-4a3b-949b-92e63cc95997 button.colab-df-convert');\n",
              "        buttonEl.style.display =\n",
              "          google.colab.kernel.accessAllowed ? 'block' : 'none';\n",
              "\n",
              "        async function convertToInteractive(key) {\n",
              "          const element = document.querySelector('#df-1a78feb4-12b6-4a3b-949b-92e63cc95997');\n",
              "          const dataTable =\n",
              "            await google.colab.kernel.invokeFunction('convertToInteractive',\n",
              "                                                     [key], {});\n",
              "          if (!dataTable) return;\n",
              "\n",
              "          const docLinkHtml = 'Like what you see? Visit the ' +\n",
              "            '<a target=\"_blank\" href=https://colab.research.google.com/notebooks/data_table.ipynb>data table notebook</a>'\n",
              "            + ' to learn more about interactive tables.';\n",
              "          element.innerHTML = '';\n",
              "          dataTable['output_type'] = 'display_data';\n",
              "          await google.colab.output.renderOutput(dataTable, element);\n",
              "          const docLink = document.createElement('div');\n",
              "          docLink.innerHTML = docLinkHtml;\n",
              "          element.appendChild(docLink);\n",
              "        }\n",
              "      </script>\n",
              "    </div>\n",
              "  </div>\n",
              "  "
            ],
            "text/plain": [
              "       User_ID  month  year  CompPart  Comment  Sub  Disc  Target\n",
              "0  ID_XI7BAR4Y      8     3         0        0    0     0       0\n",
              "1  ID_XI7BAR4Y      8     2         0        0    0     0       0\n",
              "2  ID_XI7BAR4Y      9     2         0        0    0     0       0\n",
              "3  ID_XI7BAR4Y      9     3         0        0    0     0       0\n",
              "4  ID_XI7BAR4Y     10     3         0        0    0     0       0"
            ]
          },
          "execution_count": 16,
          "metadata": {},
          "output_type": "execute_result"
        }
      ],
      "source": [
        "tr= pd.read_csv('Train.csv')\n",
        "tr.head()"
      ]
    },
    {
      "cell_type": "code",
      "execution_count": 17,
      "metadata": {
        "colab": {
          "base_uri": "https://localhost:8080/"
        },
        "id": "2-CY04U1vFiz",
        "outputId": "d7f39ab7-686e-495e-bd64-558f6cb4e6f8"
      },
      "outputs": [
        {
          "data": {
            "text/plain": [
              "(259832, 8)"
            ]
          },
          "execution_count": 17,
          "metadata": {},
          "output_type": "execute_result"
        }
      ],
      "source": [
        "tr.shape"
      ]
    },
    {
      "cell_type": "code",
      "execution_count": 18,
      "metadata": {
        "colab": {
          "base_uri": "https://localhost:8080/",
          "height": 520
        },
        "id": "uqjBjXtFwbF9",
        "outputId": "64676725-d2ca-4887-d762-b191a13476de"
      },
      "outputs": [
        {
          "data": {
            "text/html": [
              "\n",
              "  <div id=\"df-25fd0718-4ec2-4cfd-b9ed-2ed2825f726a\">\n",
              "    <div class=\"colab-df-container\">\n",
              "      <div>\n",
              "<style scoped>\n",
              "    .dataframe tbody tr th:only-of-type {\n",
              "        vertical-align: middle;\n",
              "    }\n",
              "\n",
              "    .dataframe tbody tr th {\n",
              "        vertical-align: top;\n",
              "    }\n",
              "\n",
              "    .dataframe thead th {\n",
              "        text-align: right;\n",
              "    }\n",
              "</style>\n",
              "<table border=\"1\" class=\"dataframe\">\n",
              "  <thead>\n",
              "    <tr style=\"text-align: right;\">\n",
              "      <th></th>\n",
              "      <th>VariableName</th>\n",
              "      <th>VariableDefinition</th>\n",
              "    </tr>\n",
              "  </thead>\n",
              "  <tbody>\n",
              "    <tr>\n",
              "      <th>0</th>\n",
              "      <td>Train</td>\n",
              "      <td>NaN</td>\n",
              "    </tr>\n",
              "    <tr>\n",
              "      <th>1</th>\n",
              "      <td>UserID</td>\n",
              "      <td>This is the unique ID of the user who made the comment</td>\n",
              "    </tr>\n",
              "    <tr>\n",
              "      <th>2</th>\n",
              "      <td>CompPart</td>\n",
              "      <td>Value 1 if Participated in any competition in the given month and year</td>\n",
              "    </tr>\n",
              "    <tr>\n",
              "      <th>3</th>\n",
              "      <td>Comment</td>\n",
              "      <td>Value 1 if Participated in any comments in the given month and year</td>\n",
              "    </tr>\n",
              "    <tr>\n",
              "      <th>4</th>\n",
              "      <td>Sub</td>\n",
              "      <td>Value 1 if Submitted to any competition in the given month and year</td>\n",
              "    </tr>\n",
              "    <tr>\n",
              "      <th>...</th>\n",
              "      <td>...</td>\n",
              "      <td>...</td>\n",
              "    </tr>\n",
              "    <tr>\n",
              "      <th>67</th>\n",
              "      <td>UserDate Month</td>\n",
              "      <td>The month of the year the user signed up. Months are in chronological order but January is not neccesarily month 1.</td>\n",
              "    </tr>\n",
              "    <tr>\n",
              "      <th>68</th>\n",
              "      <td>UserDate Day_of_week</td>\n",
              "      <td>The day of the week the user signed up on. Days are in chronological order but Monday is not neccesarily day 1.</td>\n",
              "    </tr>\n",
              "    <tr>\n",
              "      <th>69</th>\n",
              "      <td>NaN</td>\n",
              "      <td>NaN</td>\n",
              "    </tr>\n",
              "    <tr>\n",
              "      <th>70</th>\n",
              "      <td>NaN</td>\n",
              "      <td>NaN</td>\n",
              "    </tr>\n",
              "    <tr>\n",
              "      <th>71</th>\n",
              "      <td>The variables have been masked consistently across all tables.</td>\n",
              "      <td>NaN</td>\n",
              "    </tr>\n",
              "  </tbody>\n",
              "</table>\n",
              "<p>72 rows × 2 columns</p>\n",
              "</div>\n",
              "      <button class=\"colab-df-convert\" onclick=\"convertToInteractive('df-25fd0718-4ec2-4cfd-b9ed-2ed2825f726a')\"\n",
              "              title=\"Convert this dataframe to an interactive table.\"\n",
              "              style=\"display:none;\">\n",
              "        \n",
              "  <svg xmlns=\"http://www.w3.org/2000/svg\" height=\"24px\"viewBox=\"0 0 24 24\"\n",
              "       width=\"24px\">\n",
              "    <path d=\"M0 0h24v24H0V0z\" fill=\"none\"/>\n",
              "    <path d=\"M18.56 5.44l.94 2.06.94-2.06 2.06-.94-2.06-.94-.94-2.06-.94 2.06-2.06.94zm-11 1L8.5 8.5l.94-2.06 2.06-.94-2.06-.94L8.5 2.5l-.94 2.06-2.06.94zm10 10l.94 2.06.94-2.06 2.06-.94-2.06-.94-.94-2.06-.94 2.06-2.06.94z\"/><path d=\"M17.41 7.96l-1.37-1.37c-.4-.4-.92-.59-1.43-.59-.52 0-1.04.2-1.43.59L10.3 9.45l-7.72 7.72c-.78.78-.78 2.05 0 2.83L4 21.41c.39.39.9.59 1.41.59.51 0 1.02-.2 1.41-.59l7.78-7.78 2.81-2.81c.8-.78.8-2.07 0-2.86zM5.41 20L4 18.59l7.72-7.72 1.47 1.35L5.41 20z\"/>\n",
              "  </svg>\n",
              "      </button>\n",
              "      \n",
              "  <style>\n",
              "    .colab-df-container {\n",
              "      display:flex;\n",
              "      flex-wrap:wrap;\n",
              "      gap: 12px;\n",
              "    }\n",
              "\n",
              "    .colab-df-convert {\n",
              "      background-color: #E8F0FE;\n",
              "      border: none;\n",
              "      border-radius: 50%;\n",
              "      cursor: pointer;\n",
              "      display: none;\n",
              "      fill: #1967D2;\n",
              "      height: 32px;\n",
              "      padding: 0 0 0 0;\n",
              "      width: 32px;\n",
              "    }\n",
              "\n",
              "    .colab-df-convert:hover {\n",
              "      background-color: #E2EBFA;\n",
              "      box-shadow: 0px 1px 2px rgba(60, 64, 67, 0.3), 0px 1px 3px 1px rgba(60, 64, 67, 0.15);\n",
              "      fill: #174EA6;\n",
              "    }\n",
              "\n",
              "    [theme=dark] .colab-df-convert {\n",
              "      background-color: #3B4455;\n",
              "      fill: #D2E3FC;\n",
              "    }\n",
              "\n",
              "    [theme=dark] .colab-df-convert:hover {\n",
              "      background-color: #434B5C;\n",
              "      box-shadow: 0px 1px 3px 1px rgba(0, 0, 0, 0.15);\n",
              "      filter: drop-shadow(0px 1px 2px rgba(0, 0, 0, 0.3));\n",
              "      fill: #FFFFFF;\n",
              "    }\n",
              "  </style>\n",
              "\n",
              "      <script>\n",
              "        const buttonEl =\n",
              "          document.querySelector('#df-25fd0718-4ec2-4cfd-b9ed-2ed2825f726a button.colab-df-convert');\n",
              "        buttonEl.style.display =\n",
              "          google.colab.kernel.accessAllowed ? 'block' : 'none';\n",
              "\n",
              "        async function convertToInteractive(key) {\n",
              "          const element = document.querySelector('#df-25fd0718-4ec2-4cfd-b9ed-2ed2825f726a');\n",
              "          const dataTable =\n",
              "            await google.colab.kernel.invokeFunction('convertToInteractive',\n",
              "                                                     [key], {});\n",
              "          if (!dataTable) return;\n",
              "\n",
              "          const docLinkHtml = 'Like what you see? Visit the ' +\n",
              "            '<a target=\"_blank\" href=https://colab.research.google.com/notebooks/data_table.ipynb>data table notebook</a>'\n",
              "            + ' to learn more about interactive tables.';\n",
              "          element.innerHTML = '';\n",
              "          dataTable['output_type'] = 'display_data';\n",
              "          await google.colab.output.renderOutput(dataTable, element);\n",
              "          const docLink = document.createElement('div');\n",
              "          docLink.innerHTML = docLinkHtml;\n",
              "          element.appendChild(docLink);\n",
              "        }\n",
              "      </script>\n",
              "    </div>\n",
              "  </div>\n",
              "  "
            ],
            "text/plain": [
              "                                                      VariableName                                                                                                   VariableDefinition\n",
              "0                                                            Train                                                                                                                  NaN\n",
              "1                                                           UserID                                                               This is the unique ID of the user who made the comment\n",
              "2                                                         CompPart                                               Value 1 if Participated in any competition in the given month and year\n",
              "3                                                          Comment                                                  Value 1 if Participated in any comments in the given month and year\n",
              "4                                                              Sub                                                  Value 1 if Submitted to any competition in the given month and year\n",
              "..                                                             ...                                                                                                                  ...\n",
              "67                                                  UserDate Month  The month of the year the user signed up. Months are in chronological order but January is not neccesarily month 1.\n",
              "68                                            UserDate Day_of_week      The day of the week the user signed up on. Days are in chronological order but Monday is not neccesarily day 1.\n",
              "69                                                             NaN                                                                                                                  NaN\n",
              "70                                                             NaN                                                                                                                  NaN\n",
              "71  The variables have been masked consistently across all tables.                                                                                                                  NaN\n",
              "\n",
              "[72 rows x 2 columns]"
            ]
          },
          "execution_count": 18,
          "metadata": {},
          "output_type": "execute_result"
        }
      ],
      "source": [
        "vdef = pd.read_csv('VariableDefinitions.csv')\n",
        "vdef"
      ]
    },
    {
      "cell_type": "code",
      "execution_count": 19,
      "metadata": {
        "colab": {
          "base_uri": "https://localhost:8080/",
          "height": 206
        },
        "id": "f6e0O7DVwOkG",
        "outputId": "3d6cf210-8ada-450e-fa0d-b8da91dd31d1"
      },
      "outputs": [
        {
          "data": {
            "text/html": [
              "\n",
              "  <div id=\"df-ee55327c-6569-44e8-9fb2-485b964bfec3\">\n",
              "    <div class=\"colab-df-container\">\n",
              "      <div>\n",
              "<style scoped>\n",
              "    .dataframe tbody tr th:only-of-type {\n",
              "        vertical-align: middle;\n",
              "    }\n",
              "\n",
              "    .dataframe tbody tr th {\n",
              "        vertical-align: top;\n",
              "    }\n",
              "\n",
              "    .dataframe thead th {\n",
              "        text-align: right;\n",
              "    }\n",
              "</style>\n",
              "<table border=\"1\" class=\"dataframe\">\n",
              "  <thead>\n",
              "    <tr style=\"text-align: right;\">\n",
              "      <th></th>\n",
              "      <th>User_ID</th>\n",
              "      <th>month</th>\n",
              "      <th>year</th>\n",
              "    </tr>\n",
              "  </thead>\n",
              "  <tbody>\n",
              "    <tr>\n",
              "      <th>0</th>\n",
              "      <td>ID_H1ELY25E</td>\n",
              "      <td>1</td>\n",
              "      <td>4</td>\n",
              "    </tr>\n",
              "    <tr>\n",
              "      <th>1</th>\n",
              "      <td>ID_H1ELY25E</td>\n",
              "      <td>2</td>\n",
              "      <td>4</td>\n",
              "    </tr>\n",
              "    <tr>\n",
              "      <th>2</th>\n",
              "      <td>ID_H1ELY25E</td>\n",
              "      <td>3</td>\n",
              "      <td>4</td>\n",
              "    </tr>\n",
              "    <tr>\n",
              "      <th>3</th>\n",
              "      <td>ID_463Q2BCO</td>\n",
              "      <td>1</td>\n",
              "      <td>4</td>\n",
              "    </tr>\n",
              "    <tr>\n",
              "      <th>4</th>\n",
              "      <td>ID_463Q2BCO</td>\n",
              "      <td>2</td>\n",
              "      <td>4</td>\n",
              "    </tr>\n",
              "  </tbody>\n",
              "</table>\n",
              "</div>\n",
              "      <button class=\"colab-df-convert\" onclick=\"convertToInteractive('df-ee55327c-6569-44e8-9fb2-485b964bfec3')\"\n",
              "              title=\"Convert this dataframe to an interactive table.\"\n",
              "              style=\"display:none;\">\n",
              "        \n",
              "  <svg xmlns=\"http://www.w3.org/2000/svg\" height=\"24px\"viewBox=\"0 0 24 24\"\n",
              "       width=\"24px\">\n",
              "    <path d=\"M0 0h24v24H0V0z\" fill=\"none\"/>\n",
              "    <path d=\"M18.56 5.44l.94 2.06.94-2.06 2.06-.94-2.06-.94-.94-2.06-.94 2.06-2.06.94zm-11 1L8.5 8.5l.94-2.06 2.06-.94-2.06-.94L8.5 2.5l-.94 2.06-2.06.94zm10 10l.94 2.06.94-2.06 2.06-.94-2.06-.94-.94-2.06-.94 2.06-2.06.94z\"/><path d=\"M17.41 7.96l-1.37-1.37c-.4-.4-.92-.59-1.43-.59-.52 0-1.04.2-1.43.59L10.3 9.45l-7.72 7.72c-.78.78-.78 2.05 0 2.83L4 21.41c.39.39.9.59 1.41.59.51 0 1.02-.2 1.41-.59l7.78-7.78 2.81-2.81c.8-.78.8-2.07 0-2.86zM5.41 20L4 18.59l7.72-7.72 1.47 1.35L5.41 20z\"/>\n",
              "  </svg>\n",
              "      </button>\n",
              "      \n",
              "  <style>\n",
              "    .colab-df-container {\n",
              "      display:flex;\n",
              "      flex-wrap:wrap;\n",
              "      gap: 12px;\n",
              "    }\n",
              "\n",
              "    .colab-df-convert {\n",
              "      background-color: #E8F0FE;\n",
              "      border: none;\n",
              "      border-radius: 50%;\n",
              "      cursor: pointer;\n",
              "      display: none;\n",
              "      fill: #1967D2;\n",
              "      height: 32px;\n",
              "      padding: 0 0 0 0;\n",
              "      width: 32px;\n",
              "    }\n",
              "\n",
              "    .colab-df-convert:hover {\n",
              "      background-color: #E2EBFA;\n",
              "      box-shadow: 0px 1px 2px rgba(60, 64, 67, 0.3), 0px 1px 3px 1px rgba(60, 64, 67, 0.15);\n",
              "      fill: #174EA6;\n",
              "    }\n",
              "\n",
              "    [theme=dark] .colab-df-convert {\n",
              "      background-color: #3B4455;\n",
              "      fill: #D2E3FC;\n",
              "    }\n",
              "\n",
              "    [theme=dark] .colab-df-convert:hover {\n",
              "      background-color: #434B5C;\n",
              "      box-shadow: 0px 1px 3px 1px rgba(0, 0, 0, 0.15);\n",
              "      filter: drop-shadow(0px 1px 2px rgba(0, 0, 0, 0.3));\n",
              "      fill: #FFFFFF;\n",
              "    }\n",
              "  </style>\n",
              "\n",
              "      <script>\n",
              "        const buttonEl =\n",
              "          document.querySelector('#df-ee55327c-6569-44e8-9fb2-485b964bfec3 button.colab-df-convert');\n",
              "        buttonEl.style.display =\n",
              "          google.colab.kernel.accessAllowed ? 'block' : 'none';\n",
              "\n",
              "        async function convertToInteractive(key) {\n",
              "          const element = document.querySelector('#df-ee55327c-6569-44e8-9fb2-485b964bfec3');\n",
              "          const dataTable =\n",
              "            await google.colab.kernel.invokeFunction('convertToInteractive',\n",
              "                                                     [key], {});\n",
              "          if (!dataTable) return;\n",
              "\n",
              "          const docLinkHtml = 'Like what you see? Visit the ' +\n",
              "            '<a target=\"_blank\" href=https://colab.research.google.com/notebooks/data_table.ipynb>data table notebook</a>'\n",
              "            + ' to learn more about interactive tables.';\n",
              "          element.innerHTML = '';\n",
              "          dataTable['output_type'] = 'display_data';\n",
              "          await google.colab.output.renderOutput(dataTable, element);\n",
              "          const docLink = document.createElement('div');\n",
              "          docLink.innerHTML = docLinkHtml;\n",
              "          element.appendChild(docLink);\n",
              "        }\n",
              "      </script>\n",
              "    </div>\n",
              "  </div>\n",
              "  "
            ],
            "text/plain": [
              "       User_ID  month  year\n",
              "0  ID_H1ELY25E      1     4\n",
              "1  ID_H1ELY25E      2     4\n",
              "2  ID_H1ELY25E      3     4\n",
              "3  ID_463Q2BCO      1     4\n",
              "4  ID_463Q2BCO      2     4"
            ]
          },
          "execution_count": 19,
          "metadata": {},
          "output_type": "execute_result"
        }
      ],
      "source": [
        "ts = pd.read_csv('Test.csv')\n",
        "ts.head()"
      ]
    },
    {
      "cell_type": "code",
      "execution_count": 20,
      "metadata": {
        "colab": {
          "base_uri": "https://localhost:8080/"
        },
        "id": "03FiB-ASwriL",
        "outputId": "526909df-dfdc-4057-b93c-4579dcb11451"
      },
      "outputs": [
        {
          "data": {
            "text/plain": [
              "(65223, 3)"
            ]
          },
          "execution_count": 20,
          "metadata": {},
          "output_type": "execute_result"
        }
      ],
      "source": [
        "ts.shape"
      ]
    },
    {
      "cell_type": "code",
      "execution_count": 21,
      "metadata": {
        "colab": {
          "base_uri": "https://localhost:8080/",
          "height": 206
        },
        "id": "Va0X-dU6wqrg",
        "outputId": "6b5e877a-e7c1-43b2-b333-b97eab52f0ef"
      },
      "outputs": [
        {
          "data": {
            "text/html": [
              "\n",
              "  <div id=\"df-b59b4a36-fdbf-4a5e-bc5c-7c9ac7588ef9\">\n",
              "    <div class=\"colab-df-container\">\n",
              "      <div>\n",
              "<style scoped>\n",
              "    .dataframe tbody tr th:only-of-type {\n",
              "        vertical-align: middle;\n",
              "    }\n",
              "\n",
              "    .dataframe tbody tr th {\n",
              "        vertical-align: top;\n",
              "    }\n",
              "\n",
              "    .dataframe thead th {\n",
              "        text-align: right;\n",
              "    }\n",
              "</style>\n",
              "<table border=\"1\" class=\"dataframe\">\n",
              "  <thead>\n",
              "    <tr style=\"text-align: right;\">\n",
              "      <th></th>\n",
              "      <th>UserMonthYear</th>\n",
              "      <th>Target</th>\n",
              "    </tr>\n",
              "  </thead>\n",
              "  <tbody>\n",
              "    <tr>\n",
              "      <th>0</th>\n",
              "      <td>ID_000VV0KM_1_4</td>\n",
              "      <td>NaN</td>\n",
              "    </tr>\n",
              "    <tr>\n",
              "      <th>1</th>\n",
              "      <td>ID_000VV0KM_2_4</td>\n",
              "      <td>NaN</td>\n",
              "    </tr>\n",
              "    <tr>\n",
              "      <th>2</th>\n",
              "      <td>ID_000VV0KM_3_4</td>\n",
              "      <td>NaN</td>\n",
              "    </tr>\n",
              "    <tr>\n",
              "      <th>3</th>\n",
              "      <td>ID_003OCIYO_1_4</td>\n",
              "      <td>NaN</td>\n",
              "    </tr>\n",
              "    <tr>\n",
              "      <th>4</th>\n",
              "      <td>ID_003OCIYO_2_4</td>\n",
              "      <td>NaN</td>\n",
              "    </tr>\n",
              "  </tbody>\n",
              "</table>\n",
              "</div>\n",
              "      <button class=\"colab-df-convert\" onclick=\"convertToInteractive('df-b59b4a36-fdbf-4a5e-bc5c-7c9ac7588ef9')\"\n",
              "              title=\"Convert this dataframe to an interactive table.\"\n",
              "              style=\"display:none;\">\n",
              "        \n",
              "  <svg xmlns=\"http://www.w3.org/2000/svg\" height=\"24px\"viewBox=\"0 0 24 24\"\n",
              "       width=\"24px\">\n",
              "    <path d=\"M0 0h24v24H0V0z\" fill=\"none\"/>\n",
              "    <path d=\"M18.56 5.44l.94 2.06.94-2.06 2.06-.94-2.06-.94-.94-2.06-.94 2.06-2.06.94zm-11 1L8.5 8.5l.94-2.06 2.06-.94-2.06-.94L8.5 2.5l-.94 2.06-2.06.94zm10 10l.94 2.06.94-2.06 2.06-.94-2.06-.94-.94-2.06-.94 2.06-2.06.94z\"/><path d=\"M17.41 7.96l-1.37-1.37c-.4-.4-.92-.59-1.43-.59-.52 0-1.04.2-1.43.59L10.3 9.45l-7.72 7.72c-.78.78-.78 2.05 0 2.83L4 21.41c.39.39.9.59 1.41.59.51 0 1.02-.2 1.41-.59l7.78-7.78 2.81-2.81c.8-.78.8-2.07 0-2.86zM5.41 20L4 18.59l7.72-7.72 1.47 1.35L5.41 20z\"/>\n",
              "  </svg>\n",
              "      </button>\n",
              "      \n",
              "  <style>\n",
              "    .colab-df-container {\n",
              "      display:flex;\n",
              "      flex-wrap:wrap;\n",
              "      gap: 12px;\n",
              "    }\n",
              "\n",
              "    .colab-df-convert {\n",
              "      background-color: #E8F0FE;\n",
              "      border: none;\n",
              "      border-radius: 50%;\n",
              "      cursor: pointer;\n",
              "      display: none;\n",
              "      fill: #1967D2;\n",
              "      height: 32px;\n",
              "      padding: 0 0 0 0;\n",
              "      width: 32px;\n",
              "    }\n",
              "\n",
              "    .colab-df-convert:hover {\n",
              "      background-color: #E2EBFA;\n",
              "      box-shadow: 0px 1px 2px rgba(60, 64, 67, 0.3), 0px 1px 3px 1px rgba(60, 64, 67, 0.15);\n",
              "      fill: #174EA6;\n",
              "    }\n",
              "\n",
              "    [theme=dark] .colab-df-convert {\n",
              "      background-color: #3B4455;\n",
              "      fill: #D2E3FC;\n",
              "    }\n",
              "\n",
              "    [theme=dark] .colab-df-convert:hover {\n",
              "      background-color: #434B5C;\n",
              "      box-shadow: 0px 1px 3px 1px rgba(0, 0, 0, 0.15);\n",
              "      filter: drop-shadow(0px 1px 2px rgba(0, 0, 0, 0.3));\n",
              "      fill: #FFFFFF;\n",
              "    }\n",
              "  </style>\n",
              "\n",
              "      <script>\n",
              "        const buttonEl =\n",
              "          document.querySelector('#df-b59b4a36-fdbf-4a5e-bc5c-7c9ac7588ef9 button.colab-df-convert');\n",
              "        buttonEl.style.display =\n",
              "          google.colab.kernel.accessAllowed ? 'block' : 'none';\n",
              "\n",
              "        async function convertToInteractive(key) {\n",
              "          const element = document.querySelector('#df-b59b4a36-fdbf-4a5e-bc5c-7c9ac7588ef9');\n",
              "          const dataTable =\n",
              "            await google.colab.kernel.invokeFunction('convertToInteractive',\n",
              "                                                     [key], {});\n",
              "          if (!dataTable) return;\n",
              "\n",
              "          const docLinkHtml = 'Like what you see? Visit the ' +\n",
              "            '<a target=\"_blank\" href=https://colab.research.google.com/notebooks/data_table.ipynb>data table notebook</a>'\n",
              "            + ' to learn more about interactive tables.';\n",
              "          element.innerHTML = '';\n",
              "          dataTable['output_type'] = 'display_data';\n",
              "          await google.colab.output.renderOutput(dataTable, element);\n",
              "          const docLink = document.createElement('div');\n",
              "          docLink.innerHTML = docLinkHtml;\n",
              "          element.appendChild(docLink);\n",
              "        }\n",
              "      </script>\n",
              "    </div>\n",
              "  </div>\n",
              "  "
            ],
            "text/plain": [
              "     UserMonthYear  Target\n",
              "0  ID_000VV0KM_1_4     NaN\n",
              "1  ID_000VV0KM_2_4     NaN\n",
              "2  ID_000VV0KM_3_4     NaN\n",
              "3  ID_003OCIYO_1_4     NaN\n",
              "4  ID_003OCIYO_2_4     NaN"
            ]
          },
          "execution_count": 21,
          "metadata": {},
          "output_type": "execute_result"
        }
      ],
      "source": [
        "ss = pd.read_csv('SampleSubmission.csv')\n",
        "ss.head()"
      ]
    },
    {
      "cell_type": "code",
      "execution_count": 22,
      "metadata": {
        "colab": {
          "base_uri": "https://localhost:8080/"
        },
        "id": "fFzUAWO81bOs",
        "outputId": "dc063885-ddb0-4d8d-9ba3-0b56581398fc"
      },
      "outputs": [
        {
          "data": {
            "text/plain": [
              "(65223, 2)"
            ]
          },
          "execution_count": 22,
          "metadata": {},
          "output_type": "execute_result"
        }
      ],
      "source": [
        "ss.shape"
      ]
    },
    {
      "cell_type": "markdown",
      "metadata": {
        "id": "6mJ0hXWQi88a"
      },
      "source": [
        "# Data Understanding"
      ]
    },
    {
      "cell_type": "markdown",
      "metadata": {
        "id": "xPUALpWF5Ztz"
      },
      "source": [
        "**COMPETITIONS**"
      ]
    },
    {
      "cell_type": "code",
      "execution_count": 23,
      "metadata": {
        "colab": {
          "base_uri": "https://localhost:8080/"
        },
        "id": "vAn4gZZ_4V5w",
        "outputId": "401720f4-c9c5-423d-a77f-8c63d096ad87"
      },
      "outputs": [
        {
          "data": {
            "text/plain": [
              "CompID                        object\n",
              "Country                       object\n",
              "FeatureA                      object\n",
              "FeatureB                      object\n",
              "FeatureC                     float64\n",
              "Kind                           int64\n",
              "Points Reward                  int64\n",
              "FeatureD                       int64\n",
              "SecretCode                     int64\n",
              "SubmissionLimitPerDay        float64\n",
              "FeatureE                      object\n",
              "CompEndTime Year              object\n",
              "CompEndTime Month            float64\n",
              "CompEndTime Day_of_week      float64\n",
              "CompStartTime Year             int64\n",
              "CompStartTime Month            int64\n",
              "CompStartTime Day_of_week      int64\n",
              "dtype: object"
            ]
          },
          "execution_count": 23,
          "metadata": {},
          "output_type": "execute_result"
        }
      ],
      "source": [
        "competitions.dtypes"
      ]
    },
    {
      "cell_type": "code",
      "execution_count": 24,
      "metadata": {
        "colab": {
          "base_uri": "https://localhost:8080/"
        },
        "id": "Z4PzzCJl4V2V",
        "outputId": "dfd0f0d4-985b-4977-d67a-cc90558cc2eb"
      },
      "outputs": [
        {
          "data": {
            "text/plain": [
              "CompID                        0\n",
              "Country                      23\n",
              "FeatureA                      0\n",
              "FeatureB                      0\n",
              "FeatureC                     17\n",
              "Kind                          0\n",
              "Points Reward                 0\n",
              "FeatureD                      0\n",
              "SecretCode                    0\n",
              "SubmissionLimitPerDay         4\n",
              "FeatureE                      0\n",
              "CompEndTime Year              0\n",
              "CompEndTime Month            20\n",
              "CompEndTime Day_of_week      20\n",
              "CompStartTime Year            0\n",
              "CompStartTime Month           0\n",
              "CompStartTime Day_of_week     0\n",
              "dtype: int64"
            ]
          },
          "execution_count": 24,
          "metadata": {},
          "output_type": "execute_result"
        }
      ],
      "source": [
        "competitions.isna().sum()"
      ]
    },
    {
      "cell_type": "code",
      "execution_count": 25,
      "metadata": {
        "colab": {
          "base_uri": "https://localhost:8080/"
        },
        "id": "iXLd42-j4VxY",
        "outputId": "390611f7-8c29-4fff-81b7-f457899cf161"
      },
      "outputs": [
        {
          "data": {
            "text/plain": [
              "False"
            ]
          },
          "execution_count": 25,
          "metadata": {},
          "output_type": "execute_result"
        }
      ],
      "source": [
        "competitions.duplicated().any()"
      ]
    },
    {
      "cell_type": "code",
      "execution_count": 26,
      "metadata": {
        "colab": {
          "base_uri": "https://localhost:8080/"
        },
        "id": "dRDPozjQ4V0S",
        "outputId": "4db1bf0c-76b7-478d-931c-ffd5d346003d"
      },
      "outputs": [
        {
          "name": "stdout",
          "output_type": "stream",
          "text": [
            "COLUMN: CompID\n",
            "Number of unique variables: 154\n",
            "['ID_WGZ2' 'ID_G370' 'ID_R5HL' 'ID_Y6XI' 'ID_8PEN' 'ID_F23U' 'ID_GOXL'\n",
            " 'ID_88GO' 'ID_HTKR' 'ID_ABBZ' 'ID_ASHZ' 'ID_LXXE' 'ID_I52W' 'ID_TKJJ'\n",
            " 'ID_57TX' 'ID_ZBPQ' 'ID_SNXY' 'ID_GTIV' 'ID_P8IG' 'ID_GQCR' 'ID_BQO2'\n",
            " 'ID_4FPW' 'ID_664W' 'ID_GCU7' 'ID_5B6Q' 'ID_JIF0' 'ID_LMFN' 'ID_G31W'\n",
            " 'ID_HJ9S' 'ID_RSV3' 'ID_R4NQ' 'ID_SW6X' 'ID_5HIG' 'ID_1FDX' 'ID_JQS3'\n",
            " 'ID_92AG' 'ID_3HST' 'ID_BT9Z' 'ID_18R6' 'ID_3HLK' 'ID_UIC7' 'ID_CKLY'\n",
            " 'ID_4DT4' 'ID_JYR6' 'ID_0HHR' 'ID_TLNA' 'ID_YXS6' 'ID_AWEI' 'ID_50Y5'\n",
            " 'ID_F53H' 'ID_QXRY' 'ID_TL9O' 'ID_AXVN' 'ID_VNW7' 'ID_VS6D' 'ID_H4L8'\n",
            " 'ID_TIK1' 'ID_3G07' 'ID_V5M1' 'ID_HZ45' 'ID_OBP1' 'ID_WIA6' 'ID_QCN2'\n",
            " 'ID_LQ4P' 'ID_GI2A' 'ID_F0B5' 'ID_VDSL' 'ID_Y20Y' 'ID_T638' 'ID_S3FU'\n",
            " 'ID_O4PY' 'ID_VNN1' 'ID_EZD0' 'ID_UWCU' 'ID_3XEN' 'ID_3JA7' 'ID_58T1'\n",
            " 'ID_ZSZR' 'ID_1E58' 'ID_IUTP' 'ID_92VT' 'ID_DJJ7' 'ID_1INW' 'ID_IV8G'\n",
            " 'ID_1CBJ' 'ID_SIY6' 'ID_D0T1' 'ID_XWMG' 'ID_QQTZ' 'ID_YZ4I' 'ID_81JW'\n",
            " 'ID_SV8O' 'ID_DKSX' 'ID_7MLO' 'ID_U1HE' 'ID_TYYF' 'ID_8WX8' 'ID_85VQ'\n",
            " 'ID_W0EJ' 'ID_IAYS' 'ID_KG1B' 'ID_50DK' 'ID_UBMS' 'ID_N932' 'ID_FBDX'\n",
            " 'ID_QY5J' 'ID_WMUF' 'ID_CEI6' 'ID_FJ9G' 'ID_VAQG' 'ID_PWC6' 'ID_GFDE'\n",
            " 'ID_C59X' 'ID_G7MQ' 'ID_9E5U' 'ID_WL75' 'ID_4QHA' 'ID_OJUX' 'ID_MFQV'\n",
            " 'ID_MICX' 'ID_FAR8' 'ID_0G47' 'ID_VK18' 'ID_09D8' 'ID_Y5IP' 'ID_4NVL'\n",
            " 'ID_8SY0' 'ID_BWI3' 'ID_XYJZ' 'ID_C748' 'ID_VEAR' 'ID_NPQM' 'ID_ON5E'\n",
            " 'ID_SAZ4' 'ID_TLNM' 'ID_JAOW' 'ID_4BS1' 'ID_PH4H' 'ID_TICV' 'ID_GKAS'\n",
            " 'ID_U8CQ' 'ID_CQ3W' 'ID_2KEY' 'ID_I5BX' 'ID_B3I5' 'ID_AB95' 'ID_XNA0'\n",
            " 'ID_J66M' 'ID_G7A4' 'ID_F7X4' 'ID_E1LI' 'ID_MPSN' 'ID_Z5QP' 'ID_D42Y']\n",
            "\n",
            "COLUMN: Country\n",
            "Number of unique variables: 24\n",
            "['ID_HWRH' nan 'ID_ARVG' 'ID_I1L9' 'ID_FC41' 'ID_GU74' 'ID_CKI7' 'ID_K86O'\n",
            " 'ID_CXB1' 'ID_5OWN' 'ID_XX6B' 'ID_RAZW' 'ID_ZXLV' 'ID_U4GT' 'ID_HIN5'\n",
            " 'ID_P0A0' 'ID_60OO' 'ID_NVM2' 'ID_2GBE' 'ID_ABPY' 'ID_DMRM' 'ID_0NU5'\n",
            " 'ID_ACV0' 'ID_HIXK' 'ID_OS8P']\n",
            "\n",
            "COLUMN: FeatureA\n",
            "Number of unique variables: 26\n",
            "['[1]' '[2, 3]' '[3, 2]' '[4]' '[]' '[5]' '[1, 6]' '[2, 7]' '[4, 2]'\n",
            " '[3, 7]' '[2]' '[2, 4]' '[5, 4, 2]' '[3]' '[1, 4, 5]' '[5, 2]'\n",
            " '[2, 4, 5]' '[6, 1]' '[4, 7, 2]' '[8]' '[1, 9]' '[2, 10, 3]' '[1, 5, 4]'\n",
            " '[7, 3, 2]' '[1, 3]' '[6]']\n",
            "\n",
            "COLUMN: FeatureB\n",
            "Number of unique variables: 15\n",
            "['[14]' '[]' '[12]' '[15]' '[9]' '[10]' '[7]' '[12, 16]' '[5, 7]' '[5, 6]'\n",
            " '[16]' '[7, 5, 14]' '[6, 5]' '[14, 7]' '[14, 8]']\n",
            "\n",
            "COLUMN: FeatureC\n",
            "Number of unique variables: 37\n",
            "[ 1.  2.  3.  4.  5.  6.  7.  8.  9. 10. nan 11. 12. 13. 14. 15. 16. 17.\n",
            " 18. 19. 20. 21. 22. 23. 24. 25. 26. 27. 28. 29. 30. 31. 32. 33. 34. 35.\n",
            " 36. 37.]\n",
            "\n",
            "COLUMN: Kind\n",
            "Number of unique variables: 2\n",
            "[1 0]\n",
            "\n",
            "COLUMN: Points Reward\n",
            "Number of unique variables: 20\n",
            "[ 27  52 126   2 102 151 500  77 599 550 301 251 350 211 226 114 400  99\n",
            " 440 276]\n",
            "\n",
            "COLUMN: FeatureD\n",
            "Number of unique variables: 3\n",
            "[1 2 3]\n",
            "\n",
            "COLUMN: SecretCode\n",
            "Number of unique variables: 2\n",
            "[0 1]\n",
            "\n",
            "COLUMN: SubmissionLimitPerDay\n",
            "Number of unique variables: 11\n",
            "[100.  10. 200.  15.  30.  20.   3.  50.   5.   4.  nan  65.]\n",
            "\n",
            "COLUMN: FeatureE\n",
            "Number of unique variables: 17\n",
            "['[1]' '[2]' '[2, 3]' '[3, 2]' '[4]' '[1, 5]' '[6]' '[7]' '[3]' '[8]' '[]'\n",
            " '[9]' '[3, 5]' '[2, 1]' '[3, 1]' '[10]' '[1, 3]']\n",
            "\n",
            "COLUMN: CompEndTime Year\n",
            "Number of unique variables: 5\n",
            "['1' '4' '2' 'not mapped' '3']\n",
            "\n",
            "COLUMN: CompEndTime Month\n",
            "Number of unique variables: 12\n",
            "[ 8.  1. 11.  2. nan  6.  5.  9. 10. 12.  3.  4.  7.]\n",
            "\n",
            "COLUMN: CompEndTime Day_of_week\n",
            "Number of unique variables: 7\n",
            "[ 7.  6.  3. nan  1.  4.  5.  2.]\n",
            "\n",
            "COLUMN: CompStartTime Year\n",
            "Number of unique variables: 4\n",
            "[1 3 2 4]\n",
            "\n",
            "COLUMN: CompStartTime Month\n",
            "Number of unique variables: 12\n",
            "[ 6 12 10 11  2  1  3  9  4  7  5  8]\n",
            "\n",
            "COLUMN: CompStartTime Day_of_week\n",
            "Number of unique variables: 7\n",
            "[5 7 4 3 6 1 2]\n",
            "\n"
          ]
        }
      ],
      "source": [
        "#unique elements in our data:\n",
        "cols = competitions.columns.to_list()\n",
        "\n",
        "for col in cols:\n",
        "  print('COLUMN:', col)\n",
        "  print('Number of unique variables:', competitions[col].nunique())\n",
        "  print(competitions[col].unique())\n",
        "  print()"
      ]
    },
    {
      "cell_type": "markdown",
      "metadata": {
        "id": "TfGGDk_r5h00"
      },
      "source": [
        "**COMPETITION** **PARTICIPATION**"
      ]
    },
    {
      "cell_type": "code",
      "execution_count": 27,
      "metadata": {
        "colab": {
          "base_uri": "https://localhost:8080/"
        },
        "id": "8pWO0muU4VvD",
        "outputId": "88b61307-e1cd-4750-803d-714333eca861"
      },
      "outputs": [
        {
          "data": {
            "text/plain": [
              "CompID                         object\n",
              "UserID                         object\n",
              "PublicRank                     object\n",
              "Successful Submission Count    object\n",
              "CompPartCreated Year            int64\n",
              "CompPartCreated Month           int64\n",
              "CompPartCreated Day_of_week     int64\n",
              "dtype: object"
            ]
          },
          "execution_count": 27,
          "metadata": {},
          "output_type": "execute_result"
        }
      ],
      "source": [
        "comppart.dtypes"
      ]
    },
    {
      "cell_type": "code",
      "execution_count": 28,
      "metadata": {
        "colab": {
          "base_uri": "https://localhost:8080/"
        },
        "id": "sVw8HcYi4Vrm",
        "outputId": "7b102bc3-e218-49fa-c0a3-106409438868"
      },
      "outputs": [
        {
          "data": {
            "text/plain": [
              "CompID                             0\n",
              "UserID                             0\n",
              "PublicRank                     34598\n",
              "Successful Submission Count    32426\n",
              "CompPartCreated Year               0\n",
              "CompPartCreated Month              0\n",
              "CompPartCreated Day_of_week        0\n",
              "dtype: int64"
            ]
          },
          "execution_count": 28,
          "metadata": {},
          "output_type": "execute_result"
        }
      ],
      "source": [
        "comppart.isna().sum()"
      ]
    },
    {
      "cell_type": "code",
      "execution_count": 29,
      "metadata": {
        "colab": {
          "base_uri": "https://localhost:8080/"
        },
        "id": "7hTxgZEy6ENT",
        "outputId": "e286565e-fecc-4dd6-e087-cd27049e6627"
      },
      "outputs": [
        {
          "data": {
            "text/plain": [
              "True"
            ]
          },
          "execution_count": 29,
          "metadata": {},
          "output_type": "execute_result"
        }
      ],
      "source": [
        "comppart.duplicated().any()"
      ]
    },
    {
      "cell_type": "code",
      "execution_count": 47,
      "metadata": {
        "colab": {
          "base_uri": "https://localhost:8080/"
        },
        "id": "i6Pl30ixEzbQ",
        "outputId": "933ed9f9-03b3-42c3-ee9e-3e410b438c05"
      },
      "outputs": [
        {
          "data": {
            "text/plain": [
              "8"
            ]
          },
          "execution_count": 47,
          "metadata": {},
          "output_type": "execute_result"
        }
      ],
      "source": [
        "comppart.duplicated().sum()"
      ]
    },
    {
      "cell_type": "code",
      "execution_count": 30,
      "metadata": {
        "colab": {
          "base_uri": "https://localhost:8080/"
        },
        "id": "YgyrsU-J4Vpp",
        "outputId": "0a8b2a5a-308d-4121-de01-db688636726b"
      },
      "outputs": [
        {
          "name": "stdout",
          "output_type": "stream",
          "text": [
            "COLUMN: CompID\n",
            "Number of unique variables: 137\n",
            "['ID_WMUF' 'ID_MPSN' 'ID_7MLO' 'ID_2KEY' 'ID_50DK' 'ID_AWEI' 'ID_ON5E'\n",
            " 'ID_QQTZ' 'ID_F53H' 'ID_FBDX' 'ID_D42Y' 'ID_4DT4' 'ID_H4L8' 'ID_UIC7'\n",
            " 'ID_3JA7' 'ID_1CBJ' 'ID_LQ4P' 'ID_U1HE' 'ID_R5HL' 'ID_HJ9S' 'ID_VNN1'\n",
            " 'ID_1INW' 'ID_AXVN' 'ID_8PEN' 'ID_G7A4' 'ID_UBMS' 'ID_XWMG' 'ID_ZSZR'\n",
            " 'ID_XYJZ' 'ID_GCU7' 'ID_JYR6' 'ID_IV8G' 'ID_WGZ2' 'ID_81JW' 'ID_8WX8'\n",
            " 'ID_SV8O' 'ID_TLNA' 'ID_09D8' 'ID_VS6D' 'ID_IAYS' 'ID_GI2A' 'ID_GTIV'\n",
            " 'ID_O4PY' 'ID_SAZ4' 'ID_G370' 'ID_Y6XI' 'ID_GQCR' 'ID_FAR8' 'ID_1E58'\n",
            " 'ID_QXRY' 'ID_LMFN' 'ID_J66M' 'ID_TYYF' 'ID_ABBZ' 'ID_G7MQ' 'ID_P8IG'\n",
            " 'ID_KG1B' 'ID_N932' 'ID_F7X4' 'ID_DKSX' 'ID_VAQG' 'ID_T638' 'ID_QY5J'\n",
            " 'ID_V5M1' 'ID_ZBPQ' 'ID_GOXL' 'ID_SW6X' 'ID_88GO' 'ID_E1LI' 'ID_F0B5'\n",
            " 'ID_3G07' 'ID_G31W' 'ID_664W' 'ID_3HST' 'ID_QCN2' 'ID_D0T1' 'ID_HZ45'\n",
            " 'ID_VK18' 'ID_HTKR' 'ID_OBP1' 'ID_RSV3' 'ID_VDSL' 'ID_0HHR' 'ID_UWCU'\n",
            " 'ID_CEI6' 'ID_0G47' 'ID_R4NQ' 'ID_JIF0' 'ID_I5BX' 'ID_WIA6' 'ID_IUTP'\n",
            " 'ID_YZ4I' 'ID_C59X' 'ID_SNXY' 'ID_MICX' 'ID_DJJ7' 'ID_PH4H' 'ID_I52W'\n",
            " 'ID_W0EJ' 'ID_SIY6' 'ID_BWI3' 'ID_AB95' 'ID_ASHZ' 'ID_C748' 'ID_3XEN'\n",
            " 'ID_TL9O' 'ID_Y5IP' 'ID_4QHA' 'ID_CKLY' 'ID_85VQ' 'ID_58T1' 'ID_FJ9G'\n",
            " 'ID_VEAR' 'ID_MFQV' 'ID_Z5QP' 'ID_GFDE' 'ID_BT9Z' 'ID_PWC6' 'ID_OJUX'\n",
            " 'ID_TIK1' 'ID_92VT' 'ID_EZD0' 'ID_TKJJ' 'ID_92AG' 'ID_9E5U' 'ID_BQO2'\n",
            " 'ID_S3FU' 'ID_Y20Y' 'ID_JAOW' 'ID_57TX' 'ID_TLNM' 'ID_WL75' 'ID_JQS3'\n",
            " 'ID_LXXE' 'ID_NPQM' 'ID_8SY0' 'ID_4NVL']\n",
            "\n",
            "COLUMN: UserID\n",
            "Number of unique variables: 14854\n",
            "['ID_UWBBZ9OF' 'ID_1N5J2PGO' 'ID_Y3FUR285' ... 'ID_H4FM7RBV' 'ID_C3QOEMU4'\n",
            " 'ID_WF3E1TND']\n",
            "\n",
            "COLUMN: PublicRank\n",
            "Number of unique variables: 11\n",
            "['rank 11' nan 'rank 6' 'rank 7' 'rank 1' 'rank 8' 'rank 9' 'rank 2'\n",
            " 'rank 3' 'rank 10' 'rank 4' 'rank 5']\n",
            "\n",
            "COLUMN: Successful Submission Count\n",
            "Number of unique variables: 8\n",
            "['count 10' nan 'count 6' 'count 8' 'count 3' 'count 5' 'count 7'\n",
            " 'count 9' 'count 4']\n",
            "\n",
            "COLUMN: CompPartCreated Year\n",
            "Number of unique variables: 3\n",
            "[3 2 1]\n",
            "\n",
            "COLUMN: CompPartCreated Month\n",
            "Number of unique variables: 12\n",
            "[ 1 10  5 11  4  9 12  6  3  7  2  8]\n",
            "\n",
            "COLUMN: CompPartCreated Day_of_week\n",
            "Number of unique variables: 7\n",
            "[4 7 5 6 1 2 3]\n",
            "\n"
          ]
        }
      ],
      "source": [
        "#unique elements in our data:\n",
        "cols = comppart.columns.to_list()\n",
        "\n",
        "for col in cols:\n",
        "  print('COLUMN:', col)\n",
        "  print('Number of unique variables:', comppart[col].nunique())\n",
        "  print(comppart[col].unique())\n",
        "  print()"
      ]
    },
    {
      "cell_type": "markdown",
      "metadata": {
        "id": "rriKaK-y6OMX"
      },
      "source": [
        "**USERS**"
      ]
    },
    {
      "cell_type": "code",
      "execution_count": 31,
      "metadata": {
        "colab": {
          "base_uri": "https://localhost:8080/"
        },
        "id": "aWUu7i7O6xGE",
        "outputId": "3ea94b9c-be46-490b-bf88-f1dd626a5d5a"
      },
      "outputs": [
        {
          "data": {
            "text/plain": [
              "UserID                  object\n",
              "FeatureX                 int64\n",
              "Country                 object\n",
              "FeatureY                 int64\n",
              "Points                  object\n",
              "UserDate Year            int64\n",
              "UserDate Month           int64\n",
              "UserDate Day_of_week     int64\n",
              "dtype: object"
            ]
          },
          "execution_count": 31,
          "metadata": {},
          "output_type": "execute_result"
        }
      ],
      "source": [
        "users.dtypes"
      ]
    },
    {
      "cell_type": "code",
      "execution_count": 32,
      "metadata": {
        "colab": {
          "base_uri": "https://localhost:8080/"
        },
        "id": "3am7_JZQ66Nr",
        "outputId": "56730c5f-82fb-4801-f052-cabb1f31eeda"
      },
      "outputs": [
        {
          "data": {
            "text/plain": [
              "UserID                  0\n",
              "FeatureX                0\n",
              "Country                 0\n",
              "FeatureY                0\n",
              "Points                  0\n",
              "UserDate Year           0\n",
              "UserDate Month          0\n",
              "UserDate Day_of_week    0\n",
              "dtype: int64"
            ]
          },
          "execution_count": 32,
          "metadata": {},
          "output_type": "execute_result"
        }
      ],
      "source": [
        "users.isna().sum()"
      ]
    },
    {
      "cell_type": "code",
      "execution_count": 33,
      "metadata": {
        "colab": {
          "base_uri": "https://localhost:8080/"
        },
        "id": "WsM9tmm-7Brs",
        "outputId": "3e20ca2c-c94d-456f-d806-316110cc2ef1"
      },
      "outputs": [
        {
          "data": {
            "text/plain": [
              "False"
            ]
          },
          "execution_count": 33,
          "metadata": {},
          "output_type": "execute_result"
        }
      ],
      "source": [
        "users.duplicated().any()"
      ]
    },
    {
      "cell_type": "code",
      "execution_count": 34,
      "metadata": {
        "colab": {
          "base_uri": "https://localhost:8080/"
        },
        "id": "z1Ayle4O7Hp2",
        "outputId": "fb569260-309c-46d8-c644-c7f84c597102"
      },
      "outputs": [
        {
          "name": "stdout",
          "output_type": "stream",
          "text": [
            "COLUMN: UserID\n",
            "Number of unique variables: 22407\n",
            "['ID_N5LTBAPU' 'ID_CLSFQB0S' 'ID_RE6T58Y4' ... 'ID_XAQGPGAZ' 'ID_1AO7PVP2'\n",
            " 'ID_3ZXJIREU']\n",
            "\n",
            "COLUMN: FeatureX\n",
            "Number of unique variables: 2\n",
            "[0 1]\n",
            "\n",
            "COLUMN: Country\n",
            "Number of unique variables: 148\n",
            "['ID_DMRM' 'ID_Q02' 'ID_Z8BI' 'ID_5OWN' 'ID_PLTE' 'ID_NVM2' 'ID_GU74'\n",
            " 'ID_0NU5' 'ID_60OO' 'ID_G4IW' 'ID_ZXLV' 'ID_HIXK' 'ID_CXB1' 'ID_Y8RA'\n",
            " 'ID_FC41' 'ID_2XYB' 'ID_ACV0' 'ID_ARVG' 'ID_OZ6F' 'ID_EKIH' 'ID_66JY'\n",
            " 'ID_2GBE' 'ID_111K' 'ID_BAUQ' 'ID_RAZW' 'ID_HWRH' 'ID_QUOO' 'ID_QA2H'\n",
            " 'ID_CZ6Z' 'ID_EYN3' 'ID_6RGX' 'ID_TZX5' 'ID_5U59' 'ID_N98T' 'ID_38MP'\n",
            " 'ID_INB3' 'ID_1ATT' 'ID_6923' 'ID_U4GT' 'ID_Y4KK' 'ID_ABPY' 'ID_6P8R'\n",
            " 'ID_XX6B' 'ID_YIPK' 'ID_HIN5' 'ID_K86O' 'ID_WVNE' 'ID_OS8P' 'ID_A5LV'\n",
            " 'ID_QF70' 'ID_VLOE' 'ID_CKI7' 'ID_X354' 'ID_U1SY' 'ID_EUWR' 'ID_53QI'\n",
            " 'ID_2PMY' 'ID_CPF9' 'ID_MFQY' 'ID_XPPQ' 'ID_U6OW' 'ID_SS6G' 'ID_M1LR'\n",
            " 'ID_5DCZ' 'ID_JBUL' 'ID_BN9Z' 'ID_AQ8U' 'ID_SJ36' 'ID_FBM5' 'ID_FJL5'\n",
            " 'ID_Y9V4' 'ID_FF7V' 'ID_WY95' 'ID_74H2' 'ID_MT5V' 'ID_7EXD' 'ID_H21E'\n",
            " 'ID_VOZ6' 'ID_EFW5' 'ID_ZNHC' 'ID_7Q6W' 'ID_4DUF' 'ID_38B7' 'ID_U1FZ'\n",
            " 'ID_YIJK' 'ID_RTNS' 'ID_4PYA' 'ID_062V' 'ID_IBFI' 'ID_A9VF' 'ID_N1OW'\n",
            " 'ID_HI32' 'ID_J60D' 'ID_SFR2' 'ID_I1L9' 'ID_SBDY' 'ID_2JLO' 'ID_01PA'\n",
            " 'ID_P0A0' 'ID_EBZV' 'ID_FFX4' 'ID_XEEA' 'ID_W6UJ' 'ID_FFKW' 'ID_IIVL'\n",
            " 'ID_3S1D' 'ID_MAQF' 'ID_L4SC' 'ID_45SP' 'ID_NWIU' 'ID_G552' 'ID_9MLT'\n",
            " 'ID_KBVV' 'ID_LDU2' 'ID_D1GA' 'ID_1JHL' 'ID_48U0' 'ID_IW9T' 'ID_A6LN'\n",
            " 'ID_EOMX' 'ID_XPXT' 'ID_TSEE' 'ID_MUJ2' 'ID_W767' 'ID_4EG3' 'ID_JXLK'\n",
            " 'ID_NF4M' 'ID_W6XJ' 'ID_9OTN' 'ID_5HX1' 'ID_JBSE' 'ID_C6Z1' 'ID_1WMP'\n",
            " 'ID_N3AA' 'ID_I1E1' 'ID_CYTR' 'ID_B35C' 'ID_O7SR' 'ID_Y8YN' 'ID_7B3S'\n",
            " 'ID_4RON' 'ID_BB6D' 'ID_ZBQF' 'ID_OS66' 'ID_LPEU' 'ID_ZG8Z' 'ID_J03A'\n",
            " 'ID_WB8Z']\n",
            "\n",
            "COLUMN: FeatureY\n",
            "Number of unique variables: 4\n",
            "[1 3 0 2]\n",
            "\n",
            "COLUMN: Points\n",
            "Number of unique variables: 4\n",
            "['group 3' 'group 4' 'group 2' 'group 1']\n",
            "\n",
            "COLUMN: UserDate Year\n",
            "Number of unique variables: 4\n",
            "[2 1 3 4]\n",
            "\n",
            "COLUMN: UserDate Month\n",
            "Number of unique variables: 12\n",
            "[ 4  5 12  9 10 11  1  2  6  3  8  7]\n",
            "\n",
            "COLUMN: UserDate Day_of_week\n",
            "Number of unique variables: 7\n",
            "[4 3 2 1 7 5 6]\n",
            "\n"
          ]
        }
      ],
      "source": [
        "#unique elements in our data:\n",
        "cols = users.columns.to_list()\n",
        "\n",
        "for col in cols:\n",
        "  print('COLUMN:', col)\n",
        "  print('Number of unique variables:', users[col].nunique())\n",
        "  print(users[col].unique())\n",
        "  print()"
      ]
    },
    {
      "cell_type": "markdown",
      "metadata": {
        "id": "Qxg11i416U15"
      },
      "source": [
        "**SUBMISSIONS**"
      ]
    },
    {
      "cell_type": "code",
      "execution_count": 35,
      "metadata": {
        "colab": {
          "base_uri": "https://localhost:8080/"
        },
        "id": "ceLCzt1t6zR2",
        "outputId": "e55d220e-c8fe-4a14-cb31-782ce8b92c4c"
      },
      "outputs": [
        {
          "data": {
            "text/plain": [
              "UserID                 object\n",
              "FeatureG                int64\n",
              "CompID                 object\n",
              "SubDate Year            int64\n",
              "SubDate Month           int64\n",
              "SubDate Day_of_week     int64\n",
              "dtype: object"
            ]
          },
          "execution_count": 35,
          "metadata": {},
          "output_type": "execute_result"
        }
      ],
      "source": [
        "submission.dtypes"
      ]
    },
    {
      "cell_type": "code",
      "execution_count": 36,
      "metadata": {
        "colab": {
          "base_uri": "https://localhost:8080/"
        },
        "id": "1APO_i1X665C",
        "outputId": "9eb65abc-b601-454c-95ff-9dd18d61fb6a"
      },
      "outputs": [
        {
          "data": {
            "text/plain": [
              "UserID                 0\n",
              "FeatureG               0\n",
              "CompID                 0\n",
              "SubDate Year           0\n",
              "SubDate Month          0\n",
              "SubDate Day_of_week    0\n",
              "dtype: int64"
            ]
          },
          "execution_count": 36,
          "metadata": {},
          "output_type": "execute_result"
        }
      ],
      "source": [
        "submission.isna().sum()"
      ]
    },
    {
      "cell_type": "code",
      "execution_count": 37,
      "metadata": {
        "colab": {
          "base_uri": "https://localhost:8080/"
        },
        "id": "oB3XGVfu7Cov",
        "outputId": "ea7f54f8-8f68-40b5-e629-bb6cb1bc3c91"
      },
      "outputs": [
        {
          "data": {
            "text/plain": [
              "True"
            ]
          },
          "execution_count": 37,
          "metadata": {},
          "output_type": "execute_result"
        }
      ],
      "source": [
        "submission.duplicated().any()"
      ]
    },
    {
      "cell_type": "code",
      "execution_count": 49,
      "metadata": {
        "colab": {
          "base_uri": "https://localhost:8080/"
        },
        "id": "QOWmULS9Gnp2",
        "outputId": "f871423f-8e8f-421b-ef7d-58f4583d353e"
      },
      "outputs": [
        {
          "data": {
            "text/plain": [
              "311767"
            ]
          },
          "execution_count": 49,
          "metadata": {},
          "output_type": "execute_result"
        }
      ],
      "source": [
        "submission.duplicated().sum()"
      ]
    },
    {
      "cell_type": "code",
      "execution_count": 38,
      "metadata": {
        "colab": {
          "base_uri": "https://localhost:8080/"
        },
        "id": "CoWI7Jpc7IbQ",
        "outputId": "887ca495-50b6-42d0-86c8-008be064c4bf"
      },
      "outputs": [
        {
          "name": "stdout",
          "output_type": "stream",
          "text": [
            "COLUMN: UserID\n",
            "Number of unique variables: 7265\n",
            "['ID_8JP75F20' 'ID_CB7ZH4MJ' 'ID_QUU4R5LF' ... 'ID_XT1B3WN7' 'ID_CX5N3Q88'\n",
            " 'ID_J6MM98N2']\n",
            "\n",
            "COLUMN: FeatureG\n",
            "Number of unique variables: 3\n",
            "[1 0 3]\n",
            "\n",
            "COLUMN: CompID\n",
            "Number of unique variables: 136\n",
            "['ID_GFDE' 'ID_MPSN' 'ID_MICX' 'ID_C59X' 'ID_GCU7' 'ID_GQCR' 'ID_W0EJ'\n",
            " 'ID_Z5QP' 'ID_8PEN' 'ID_AWEI' 'ID_HJ9S' 'ID_G7A4' 'ID_ABBZ' 'ID_F7X4'\n",
            " 'ID_VDSL' 'ID_D42Y' 'ID_3JA7' 'ID_AXVN' 'ID_H4L8' 'ID_7MLO' 'ID_T638'\n",
            " 'ID_U1HE' 'ID_50DK' 'ID_IAYS' 'ID_V5M1' 'ID_8WX8' 'ID_3HST' 'ID_664W'\n",
            " 'ID_SW6X' 'ID_E1LI' 'ID_OBP1' 'ID_R5HL' 'ID_SV8O' 'ID_VNN1' 'ID_SNXY'\n",
            " 'ID_FBDX' 'ID_TLNA' 'ID_JYR6' 'ID_9E5U' 'ID_TIK1' 'ID_VK18' 'ID_P8IG'\n",
            " 'ID_F53H' 'ID_WL75' 'ID_S3FU' 'ID_UBMS' 'ID_4DT4' 'ID_Y20Y' 'ID_Y6XI'\n",
            " 'ID_ZSZR' 'ID_J66M' 'ID_GTIV' 'ID_QCN2' 'ID_GI2A' 'ID_N932' 'ID_DKSX'\n",
            " 'ID_0HHR' 'ID_2KEY' 'ID_WGZ2' 'ID_LMFN' 'ID_88GO' 'ID_VS6D' 'ID_1E58'\n",
            " 'ID_GOXL' 'ID_HTKR' 'ID_3G07' 'ID_XWMG' 'ID_BT9Z' 'ID_JAOW' 'ID_QXRY'\n",
            " 'ID_PWC6' 'ID_KG1B' 'ID_1INW' 'ID_IV8G' 'ID_1CBJ' 'ID_YZ4I' 'ID_EZD0'\n",
            " 'ID_TL9O' 'ID_81JW' 'ID_BQO2' 'ID_LXXE' 'ID_WIA6' 'ID_R4NQ' 'ID_G370'\n",
            " 'ID_I5BX' 'ID_UWCU' 'ID_ZBPQ' 'ID_F0B5' 'ID_0G47' 'ID_PH4H' 'ID_UIC7'\n",
            " 'ID_D0T1' 'ID_DJJ7' 'ID_QQTZ' 'ID_IUTP' 'ID_TYYF' 'ID_CKLY' 'ID_58T1'\n",
            " 'ID_TLNM' 'ID_09D8' 'ID_HZ45' 'ID_LQ4P' 'ID_SIY6' 'ID_92VT' 'ID_57TX'\n",
            " 'ID_G31W' 'ID_Y5IP' 'ID_4QHA' 'ID_BWI3' 'ID_MFQV' 'ID_ON5E' 'ID_CEI6'\n",
            " 'ID_FAR8' 'ID_O4PY' 'ID_ASHZ' 'ID_RSV3' 'ID_FJ9G' 'ID_3XEN' 'ID_C748'\n",
            " 'ID_WMUF' 'ID_85VQ' 'ID_I52W' 'ID_G7MQ' 'ID_VAQG' 'ID_QY5J' 'ID_SAZ4'\n",
            " 'ID_JQS3' 'ID_JIF0' 'ID_XYJZ' 'ID_OJUX' 'ID_4NVL' 'ID_TKJJ' 'ID_92AG'\n",
            " 'ID_VEAR' 'ID_8SY0' 'ID_NPQM']\n",
            "\n",
            "COLUMN: SubDate Year\n",
            "Number of unique variables: 3\n",
            "[3 2 1]\n",
            "\n",
            "COLUMN: SubDate Month\n",
            "Number of unique variables: 12\n",
            "[ 3  1  4  5 12 10  6 11  2  7  9  8]\n",
            "\n",
            "COLUMN: SubDate Day_of_week\n",
            "Number of unique variables: 7\n",
            "[2 4 5 6 7 1 3]\n",
            "\n"
          ]
        }
      ],
      "source": [
        "#unique elements in our data:\n",
        "cols = submission.columns.to_list()\n",
        "\n",
        "for col in cols:\n",
        "  print('COLUMN:', col)\n",
        "  print('Number of unique variables:', submission[col].nunique())\n",
        "  print(submission[col].unique())\n",
        "  print()"
      ]
    },
    {
      "cell_type": "markdown",
      "metadata": {
        "id": "cGb9_aNN6YPM"
      },
      "source": [
        "**DISCUSSIONS**"
      ]
    },
    {
      "cell_type": "code",
      "execution_count": 50,
      "metadata": {
        "colab": {
          "base_uri": "https://localhost:8080/"
        },
        "id": "U3Uuh3iA60NA",
        "outputId": "884d84d8-f492-4ea9-f4e6-912bc96244bc"
      },
      "outputs": [
        {
          "data": {
            "text/plain": [
              "FeatureF                 int64\n",
              "DiscDate Year            int64\n",
              "DiscDate Month           int64\n",
              "DiscDate Day_of_week     int64\n",
              "DiscID                  object\n",
              "UserID                  object\n",
              "dtype: object"
            ]
          },
          "execution_count": 50,
          "metadata": {},
          "output_type": "execute_result"
        }
      ],
      "source": [
        "discussion.dtypes"
      ]
    },
    {
      "cell_type": "code",
      "execution_count": 51,
      "metadata": {
        "colab": {
          "base_uri": "https://localhost:8080/"
        },
        "id": "cyZKodqd67jq",
        "outputId": "e504aa10-54a1-4655-e93e-fad7b3e67c3d"
      },
      "outputs": [
        {
          "data": {
            "text/plain": [
              "FeatureF                0\n",
              "DiscDate Year           0\n",
              "DiscDate Month          0\n",
              "DiscDate Day_of_week    0\n",
              "DiscID                  0\n",
              "UserID                  0\n",
              "dtype: int64"
            ]
          },
          "execution_count": 51,
          "metadata": {},
          "output_type": "execute_result"
        }
      ],
      "source": [
        "discussion.isna().sum()"
      ]
    },
    {
      "cell_type": "code",
      "execution_count": 52,
      "metadata": {
        "colab": {
          "base_uri": "https://localhost:8080/"
        },
        "id": "E_v3B-L17DZM",
        "outputId": "afd9a227-f5ef-40c9-db1f-9c3d5af8c93c"
      },
      "outputs": [
        {
          "data": {
            "text/plain": [
              "False"
            ]
          },
          "execution_count": 52,
          "metadata": {},
          "output_type": "execute_result"
        }
      ],
      "source": [
        "discussion.duplicated().any()"
      ]
    },
    {
      "cell_type": "code",
      "execution_count": 53,
      "metadata": {
        "colab": {
          "base_uri": "https://localhost:8080/"
        },
        "id": "vtgKx5LP7JHW",
        "outputId": "279cd36d-a527-4a03-917a-cab49ec3faf4"
      },
      "outputs": [
        {
          "name": "stdout",
          "output_type": "stream",
          "text": [
            "COLUMN: FeatureF\n",
            "Number of unique variables: 2\n",
            "[1 0]\n",
            "\n",
            "COLUMN: DiscDate Year\n",
            "Number of unique variables: 3\n",
            "[3 2 1]\n",
            "\n",
            "COLUMN: DiscDate Month\n",
            "Number of unique variables: 12\n",
            "[10 12  1  9  5  4  6 11  2  3  7  8]\n",
            "\n",
            "COLUMN: DiscDate Day_of_week\n",
            "Number of unique variables: 7\n",
            "[1 3 7 2 6 4 5]\n",
            "\n",
            "COLUMN: DiscID\n",
            "Number of unique variables: 6211\n",
            "['ID_Z77ETQ' 'ID_E47JKY' 'ID_CB4Y0N' ... 'ID_IMGAT1' 'ID_W3CY00'\n",
            " 'ID_GT26RF']\n",
            "\n",
            "COLUMN: UserID\n",
            "Number of unique variables: 2653\n",
            "['ID_F2757IAI' 'ID_JQJGZA7V' 'ID_OO9NRDUE' ... 'ID_UC2B2DBT' 'ID_VVUWHX7W'\n",
            " 'ID_A9FRILEL']\n",
            "\n"
          ]
        }
      ],
      "source": [
        "#unique elements in our data:\n",
        "cols = discussion.columns.to_list()\n",
        "\n",
        "for col in cols:\n",
        "  print('COLUMN:', col)\n",
        "  print('Number of unique variables:', discussion[col].nunique())\n",
        "  print(discussion[col].unique())\n",
        "  print()"
      ]
    },
    {
      "cell_type": "markdown",
      "metadata": {
        "id": "VRnEJHI06ban"
      },
      "source": [
        "**COMMENTS**"
      ]
    },
    {
      "cell_type": "code",
      "execution_count": 43,
      "metadata": {
        "colab": {
          "base_uri": "https://localhost:8080/"
        },
        "id": "CoR8Jz6W61HH",
        "outputId": "20ab1c67-5ea0-424e-b68c-9ab7e48e4c48"
      },
      "outputs": [
        {
          "data": {
            "text/plain": [
              "UserID                     object\n",
              "CommentDate Year            int64\n",
              "CommentDate Month           int64\n",
              "CommentDate Day_of_week     int64\n",
              "dtype: object"
            ]
          },
          "execution_count": 43,
          "metadata": {},
          "output_type": "execute_result"
        }
      ],
      "source": [
        "comment.dtypes"
      ]
    },
    {
      "cell_type": "code",
      "execution_count": 44,
      "metadata": {
        "colab": {
          "base_uri": "https://localhost:8080/"
        },
        "id": "XXvmAHBR68L2",
        "outputId": "657840a7-8edf-4579-b79f-54f69ef3ce0d"
      },
      "outputs": [
        {
          "data": {
            "text/plain": [
              "UserID                     0\n",
              "CommentDate Year           0\n",
              "CommentDate Month          0\n",
              "CommentDate Day_of_week    0\n",
              "dtype: int64"
            ]
          },
          "execution_count": 44,
          "metadata": {},
          "output_type": "execute_result"
        }
      ],
      "source": [
        "comment.isna().sum()"
      ]
    },
    {
      "cell_type": "code",
      "execution_count": 45,
      "metadata": {
        "colab": {
          "base_uri": "https://localhost:8080/"
        },
        "id": "Cm9880hE7EFt",
        "outputId": "ce75236f-66ca-4934-870e-2912b5677a23"
      },
      "outputs": [
        {
          "data": {
            "text/plain": [
              "True"
            ]
          },
          "execution_count": 45,
          "metadata": {},
          "output_type": "execute_result"
        }
      ],
      "source": [
        "comment.duplicated().any()"
      ]
    },
    {
      "cell_type": "code",
      "execution_count": 46,
      "metadata": {
        "colab": {
          "base_uri": "https://localhost:8080/"
        },
        "id": "WBVBKYrKBVVS",
        "outputId": "6dff7ae4-3cd9-4f8e-a13b-8e0c7f93d794"
      },
      "outputs": [
        {
          "data": {
            "text/plain": [
              "5237"
            ]
          },
          "execution_count": 46,
          "metadata": {},
          "output_type": "execute_result"
        }
      ],
      "source": [
        "comment.duplicated().sum()"
      ]
    },
    {
      "cell_type": "code",
      "execution_count": 47,
      "metadata": {
        "colab": {
          "base_uri": "https://localhost:8080/"
        },
        "id": "0MbA-Hkt7J2X",
        "outputId": "5735b1af-8fc1-473c-bd01-84180661c12e"
      },
      "outputs": [
        {
          "name": "stdout",
          "output_type": "stream",
          "text": [
            "COLUMN: UserID\n",
            "Number of unique variables: 2055\n",
            "['ID_MVIB05DL' 'ID_KBRFRAR9' 'ID_UDS6FRR8' ... 'ID_ZVE0W61X' 'ID_0B9SK73T'\n",
            " 'ID_2IKJFHYK']\n",
            "\n",
            "COLUMN: CommentDate Year\n",
            "Number of unique variables: 3\n",
            "[3 2 1]\n",
            "\n",
            "COLUMN: CommentDate Month\n",
            "Number of unique variables: 12\n",
            "[ 1  2 11 12  4  7  9  8 10  3  6  5]\n",
            "\n",
            "COLUMN: CommentDate Day_of_week\n",
            "Number of unique variables: 7\n",
            "[7 2 6 5 4 3 1]\n",
            "\n"
          ]
        }
      ],
      "source": [
        "#unique elements in our data:\n",
        "cols = comment.columns.to_list()\n",
        "\n",
        "for col in cols:\n",
        "  print('COLUMN:', col)\n",
        "  print('Number of unique variables:', comment[col].nunique())\n",
        "  print(comment[col].unique())\n",
        "  print()"
      ]
    },
    {
      "cell_type": "markdown",
      "metadata": {
        "id": "zKG6IwDP7PC6"
      },
      "source": [
        "**TRAIN**"
      ]
    },
    {
      "cell_type": "code",
      "execution_count": null,
      "metadata": {
        "colab": {
          "base_uri": "https://localhost:8080/"
        },
        "id": "w8QahNfIw2rM",
        "outputId": "901efbdb-64c6-49e4-9cef-ea7915315051"
      },
      "outputs": [
        {
          "data": {
            "text/plain": [
              "User_ID     object\n",
              "month        int64\n",
              "year         int64\n",
              "CompPart     int64\n",
              "Comment      int64\n",
              "Sub          int64\n",
              "Disc         int64\n",
              "Target       int64\n",
              "dtype: object"
            ]
          },
          "execution_count": 11,
          "metadata": {},
          "output_type": "execute_result"
        }
      ],
      "source": [
        "tr.dtypes"
      ]
    },
    {
      "cell_type": "code",
      "execution_count": null,
      "metadata": {
        "colab": {
          "base_uri": "https://localhost:8080/"
        },
        "id": "WkxwGyfW1lOF",
        "outputId": "c3d468be-af17-4fc5-857d-430f0215f326"
      },
      "outputs": [
        {
          "data": {
            "text/plain": [
              "User_ID    object\n",
              "month       int64\n",
              "year        int64\n",
              "dtype: object"
            ]
          },
          "execution_count": 12,
          "metadata": {},
          "output_type": "execute_result"
        }
      ],
      "source": [
        "ts.dtypes"
      ]
    },
    {
      "cell_type": "code",
      "execution_count": null,
      "metadata": {
        "colab": {
          "base_uri": "https://localhost:8080/"
        },
        "id": "J_ZBzkza740H",
        "outputId": "c3bf44b6-7699-4334-f0a3-42c4cd6c60b7"
      },
      "outputs": [
        {
          "data": {
            "text/plain": [
              "User_ID     0\n",
              "month       0\n",
              "year        0\n",
              "CompPart    0\n",
              "Comment     0\n",
              "Sub         0\n",
              "Disc        0\n",
              "Target      0\n",
              "dtype: int64"
            ]
          },
          "execution_count": 13,
          "metadata": {},
          "output_type": "execute_result"
        }
      ],
      "source": [
        "tr.isna().sum()"
      ]
    },
    {
      "cell_type": "code",
      "execution_count": null,
      "metadata": {
        "colab": {
          "base_uri": "https://localhost:8080/"
        },
        "id": "8tRpUqup8F_x",
        "outputId": "2ed85f9c-4119-4325-ada5-b3abb7802896"
      },
      "outputs": [
        {
          "data": {
            "text/plain": [
              "User_ID    0\n",
              "month      0\n",
              "year       0\n",
              "dtype: int64"
            ]
          },
          "execution_count": 14,
          "metadata": {},
          "output_type": "execute_result"
        }
      ],
      "source": [
        "ts.isna().sum()"
      ]
    },
    {
      "cell_type": "code",
      "execution_count": null,
      "metadata": {
        "colab": {
          "base_uri": "https://localhost:8080/"
        },
        "id": "s8XEQ-Zq1ABy",
        "outputId": "bb0fc87f-8523-4ce8-d945-d9cfcdd509b0"
      },
      "outputs": [
        {
          "name": "stdout",
          "output_type": "stream",
          "text": [
            "COLUMN: User_ID\n",
            "Number of unique variables: 20218\n",
            "['ID_XI7BAR4Y' 'ID_TY9GL3X7' 'ID_ZOYZ41L5' ... 'ID_8IKU22O5' 'ID_NHWCR1IY'\n",
            " 'ID_XMD7EIYV']\n",
            "\n",
            "COLUMN: month\n",
            "Number of unique variables: 12\n",
            "[ 8  9 10 11 12  1  2  3  4  5  6  7]\n",
            "\n",
            "COLUMN: year\n",
            "Number of unique variables: 3\n",
            "[3 2 1]\n",
            "\n",
            "COLUMN: CompPart\n",
            "Number of unique variables: 2\n",
            "[0 1]\n",
            "\n",
            "COLUMN: Comment\n",
            "Number of unique variables: 2\n",
            "[0 1]\n",
            "\n",
            "COLUMN: Sub\n",
            "Number of unique variables: 2\n",
            "[0 1]\n",
            "\n",
            "COLUMN: Disc\n",
            "Number of unique variables: 2\n",
            "[0 1]\n",
            "\n",
            "COLUMN: Target\n",
            "Number of unique variables: 2\n",
            "[0 1]\n",
            "\n"
          ]
        }
      ],
      "source": [
        "#unique elements in our data:\n",
        "cols = tr.columns.to_list()\n",
        "\n",
        "for col in cols:\n",
        "  print('COLUMN:', col)\n",
        "  print('Number of unique variables:', tr[col].nunique())\n",
        "  print(tr[col].unique())\n",
        "  print()"
      ]
    },
    {
      "cell_type": "code",
      "execution_count": null,
      "metadata": {
        "colab": {
          "base_uri": "https://localhost:8080/"
        },
        "id": "iBUIWBbXBx6d",
        "outputId": "1e6801e0-c671-4aa8-883d-1b93eb82190f"
      },
      "outputs": [
        {
          "data": {
            "text/plain": [
              "False"
            ]
          },
          "execution_count": 18,
          "metadata": {},
          "output_type": "execute_result"
        }
      ],
      "source": [
        "#checking for duplicates\n",
        "tr.duplicated().any()"
      ]
    },
    {
      "cell_type": "code",
      "execution_count": null,
      "metadata": {
        "colab": {
          "base_uri": "https://localhost:8080/"
        },
        "id": "d--DuBFJB1Fp",
        "outputId": "74aa824d-5390-4aa2-cebb-acd0bb003427"
      },
      "outputs": [
        {
          "data": {
            "text/plain": [
              "False"
            ]
          },
          "execution_count": 19,
          "metadata": {
            "tags": []
          },
          "output_type": "execute_result"
        }
      ],
      "source": [
        "ts.duplicated().any()"
      ]
    }
  ],
  "metadata": {
    "colab": {
      "collapsed_sections": [],
      "name": "User Behaviour.ipynb",
      "provenance": [],
      "toc_visible": true
    },
    "kernelspec": {
      "display_name": "Python 3",
      "name": "python3"
    },
    "language_info": {
      "name": "python"
    }
  },
  "nbformat": 4,
  "nbformat_minor": 0
}
